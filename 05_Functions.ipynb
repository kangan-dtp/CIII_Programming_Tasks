{
 "cells": [
  {
   "cell_type": "markdown",
   "id": "cc392108",
   "metadata": {},
   "source": [
    "# Functions\n",
    "Functions are the final core concept of programming.  There are, of course, many other concepts but they are all built on top of Sequence, Selection, Iteration, Lists and Functions.\n",
    "Functions allow us to group code together and tag that code with a name.  This allows us to reuse code and avoid repeating ourselves.  Functions also break up our code into smaller, more manageable pieces.  This is important for debugging and testing.  Functions also allow us to create libraries of code that we can use in other programs.  This is important for sharing code and collaborating with others.\n",
    "It can be useful to think of functions as mini-programs that we can call from of main program when we need them.\n",
    "\n",
    "## Calling a function\n",
    "We can then **call** that function.  Calling a function means executing the code that was grouped together.  Importantly, we can call the same function many times.  \n",
    "We have already used functions previously.  For example, the `print` function is a built-in function.  Python has alraedy grouped together or, **defined**, the code that prints to the screen.  We then *call* the `print` function thus executing some predefined code.  Notice that the `print` function has brackets/parenthesis `()` after it.  This part of the syntax of calling a function.  The brackets are used to pass in any information that the function needs to do its job.  For example, the `print` function needs to know what to print.  We can pass this information in as follows:\n",
    "```python\n",
    "print(\"Hello World\")\n",
    "```\n",
    "*What are some other built-in functions?  That we have used?*\n",
    "\n",
    "\n",
    "## Defining a function\n",
    "We can also define our own functions.  This is done using the `def` keyword.  Like other control structures in Python, we add a colon `:` to the end of the line and indented lines below belong to the structure.  The syntax is as follows:\n",
    "```python\n",
    "def function_name():\n",
    "    # code to be executed\n",
    "```\n",
    "The `function_name` is the name we want to give our function and, therefore, what we call it by.  A function name should describe the purpose of the function.  The code that is indented below the function name is the code that will be executed when we call the function.\n",
    "```python\n",
    "# prints \"Hello!\" to the screen\n",
    "def say_hello():\n",
    "    print(\"Hello!\")\n",
    "\n",
    "# prints the numbers 1 to 10\n",
    "def print_one_to_ten():\n",
    "    for i in range(1, 11):\n",
    "        print(i)\n",
    "```\n",
    "To call the above functions, we simply use the function name followed by brackets:\n",
    "```python\n",
    "say_hello()\n",
    "print_one_to_ten()\n",
    "```\n",
    "Does a function need to be defined before it is called?  Why?"
   ]
  },
  {
   "cell_type": "markdown",
   "id": "74408b14",
   "metadata": {},
   "source": [
    "# Task 1\n",
    "For the code below, determine what the code does and encapsulate it in a function.  Give the function a name that describes what it does.  Call the function to execute the code.  Don't forget your indentation!"
   ]
  },
  {
   "cell_type": "code",
   "execution_count": null,
   "id": "848fd466",
   "metadata": {},
   "outputs": [],
   "source": [
    "print(\"Hello\")\n",
    "print(\"Hello\")\n",
    "print(\"Hello\")\n",
    "print(\"Hello\")\n",
    "print(\"Hello\")"
   ]
  },
  {
   "cell_type": "code",
   "execution_count": 1,
   "id": "b54afe8a",
   "metadata": {},
   "outputs": [
    {
     "name": "stdout",
     "output_type": "stream",
     "text": [
      "The sum of 1 and 2 is 3\n"
     ]
    }
   ],
   "source": [
    "num1 = int(input(\"Enter first number: \"))\n",
    "num2 = int(input(\"Enter second number: \"))\n",
    "result = num1 + num2\n",
    "print(f\"The sum of {num1} and {num2} is {result}\")"
   ]
  },
  {
   "cell_type": "code",
   "execution_count": null,
   "id": "a15bb579",
   "metadata": {},
   "outputs": [],
   "source": [
    "sentence = \"\"\n",
    "exit_flag = False\n",
    "while not exit_flag:\n",
    "    word = input(\"Enter a word (type 'exit' to stop): \")\n",
    "    if sentence.lower() == 'exit':\n",
    "        exit_flag = True\n",
    "    else:\n",
    "        sentence += word + \" \"\n",
    "\n",
    "print(\"You entered:\", sentence.strip())"
   ]
  },
  {
   "cell_type": "markdown",
   "id": "bdd48cc6",
   "metadata": {},
   "source": [
    "## Parameters\n",
    "Functions can also take in information.  This is done by adding parameters to the function definition.  Think of parameters as the inputs to our mini-programs.  Parameters are variables that are passed into the function when it is called.  This allows us to make our functions more flexible and reusable.  The syntax for adding parameters is as follows:\n",
    "```python\n",
    "def function_name(parameter1, parameter2):\n",
    "    # code to be executed\n",
    "```\n",
    "The parameters are separated by commas.  We can then use these parameters in the code that is executed when the function is called.  For example:\n",
    "```python\n",
    "def say_hello(name):\n",
    "    print(\"Hello \" + name + \"!\")\n",
    "\n",
    "def print_fullname(first_name, last_name):\n",
    "    print(\"Hello \" + first_name + \" \" + last_name + \"!\")\n",
    "\n",
    "say_hello(\"Alice\")\n",
    "say_hello(\"Bob\")\n",
    "print_fullname(\"Alice\", \"Smith\")\n",
    "print_fullname(\"Bob\", \"Jones\")\n",
    "```\n",
    "\n",
    "# Task 2\n",
    "Write functions to do the following:\n",
    "1.  Write a function that takes in a number and prints the square of that number.  A square is the number multiplied by itself.  For example, the square of 3 is 3 * 3 = 9.\n",
    "2.  Write a function that takes in two numbers and prints the sum of those two numbers.  For example, the sum of 3 and 4 is 3 + 4 = 7.\n",
    "3.  Write a function that takes in two numbers and prints from the first number to the second number.  For example, if the first number is 3 and the second number is 7, the function should print 3, 4, 5, 6, 7.  **bonus**:  If the first number is greater than the second number, print in a descending order.  For example, if the first number is 7 and the second number is 3, the function should print 7, 6, 5, 4, 3."
   ]
  },
  {
   "cell_type": "code",
   "execution_count": null,
   "id": "8440a37b",
   "metadata": {},
   "outputs": [],
   "source": []
  },
  {
   "cell_type": "code",
   "execution_count": null,
   "id": "7d9eebcb",
   "metadata": {},
   "outputs": [],
   "source": []
  },
  {
   "cell_type": "code",
   "execution_count": null,
   "id": "4affe911",
   "metadata": {},
   "outputs": [],
   "source": []
  },
  {
   "cell_type": "markdown",
   "id": "c86b68db",
   "metadata": {},
   "source": [
    "# Output - returning values\n",
    "Just like a program a function can have an output.  This is done using the `return` keyword.  The `return` keyword is used to output a value from a function.  This allows us to use or store the result of a function to use later.  An example of this in a pre-built function is the `input` function.  The `input` function takes in a string and returns the value that the user types in.  For example:\n",
    "```python\n",
    "name = input(\"What is your name? \")\n",
    "print(f\"Hello {name}!\")\n",
    "```\n",
    "\n",
    "The `return` keyword is used to output a value from a function.  This allows us to use or store the result of a function to use later.  For example:\n",
    "```python\n",
    "def add_numbers(a, b):\n",
    "    return a + b\n",
    "\n",
    "result = add_numbers(3, 4)\n",
    "print(result)\n",
    "```\n",
    "\n",
    "`add_numbers` takes in two numbers and returns the sum of those two numbers.  We can then store the result in a variable called `result` and print it out.  Notice that we can use the result of a function in other functions.  For example:\n",
    "```python\n",
    "def add_numbers(a, b):\n",
    "    return a + b\n",
    "\n",
    "def square_number(a):\n",
    "    return a * a\n",
    "\n",
    "sum = add_numbers(3, 4)\n",
    "square = square_number(sum)\n",
    "print(square)\n",
    "\n",
    "square = square_number(6)\n",
    "sum = add_numbers(square, square)\n",
    "print(sum)\n",
    "```"
   ]
  },
  {
   "cell_type": "markdown",
   "id": "38f8d9e5",
   "metadata": {},
   "source": [
    "## Task 3\n",
    "Write functions that return values for the following:\n",
    "1.  Take in a number and return True if the number is even and False if the number is odd.\n",
    "2.  Take in a number and return the factorial of that number.  The factorial of a number is the product of all the numbers from 1 to that number.  For example, the factorial of 5 is 5 * 4 * 3 * 2 * 1 = 120.\n",
    "3.  Take in a string and return the length of the string.  For example, the length of \"Hello\" is 5.\n",
    "4.  Take in a string and return the string in reverse order.  For example, the reverse of \"Hello\" is \"olleH\"."
   ]
  },
  {
   "cell_type": "code",
   "execution_count": null,
   "id": "cc0e8c86",
   "metadata": {},
   "outputs": [],
   "source": []
  },
  {
   "cell_type": "code",
   "execution_count": null,
   "id": "debcdbdb",
   "metadata": {},
   "outputs": [],
   "source": []
  },
  {
   "cell_type": "code",
   "execution_count": null,
   "id": "217f3b68",
   "metadata": {},
   "outputs": [],
   "source": []
  },
  {
   "cell_type": "code",
   "execution_count": null,
   "id": "8340c84e",
   "metadata": {},
   "outputs": [],
   "source": []
  },
  {
   "cell_type": "markdown",
   "id": "fc87e28e",
   "metadata": {},
   "source": [
    "## Testing - Asserts\n",
    "Returning values is very useful as it allows us to hold onto the result of a function to use later.  This also allows to to test our functions.  For example, we can test the `add_numbers` function by checking if the result is equal to the expected value:\n",
    "```python\n",
    "def add_numbers(a, b):\n",
    "    return a + b\n",
    "\n",
    "assert add_numbers(3, 4) == 7\n",
    "assert add_numbers(5, 6) == 11\n",
    "assert add_numbers(0, 0) == 0\n",
    "```\n",
    "The `assert` statement is used to check if a condition is true.  If the condition is false, an `AssertionError` is raised.  This allows us to test our functions and make sure they are working correctly.\n",
    "```python\n",
    "def add_numbers(a, b):\n",
    "    return a + a\n",
    "\n",
    "assert add_numbers(3, 4) == 7\n",
    "assert add_numbers(5, 6) == 11\n",
    "assert add_numbers(0, 0) == 0\n",
    "```\n",
    "The above code will raise an `AssertionError` because the function is not working correctly.  This is a useful way to test our functions and make sure they are working correctly.  Run it in the below cell to see the error."
   ]
  },
  {
   "cell_type": "code",
   "execution_count": null,
   "id": "4dea8046",
   "metadata": {},
   "outputs": [
    {
     "ename": "AssertionError",
     "evalue": "",
     "output_type": "error",
     "traceback": [
      "\u001b[31m---------------------------------------------------------------------------\u001b[39m",
      "\u001b[31mAssertionError\u001b[39m                            Traceback (most recent call last)",
      "\u001b[36mCell\u001b[39m\u001b[36m \u001b[39m\u001b[32mIn[3]\u001b[39m\u001b[32m, line 4\u001b[39m\n\u001b[32m      1\u001b[39m \u001b[38;5;28;01mdef\u001b[39;00m\u001b[38;5;250m \u001b[39m\u001b[34madd_numbers\u001b[39m(a, b):\n\u001b[32m      2\u001b[39m     \u001b[38;5;28;01mreturn\u001b[39;00m a + a\n\u001b[32m----> \u001b[39m\u001b[32m4\u001b[39m \u001b[38;5;28;01massert\u001b[39;00m add_numbers(\u001b[32m3\u001b[39m, \u001b[32m4\u001b[39m) == \u001b[32m7\u001b[39m\n\u001b[32m      5\u001b[39m \u001b[38;5;28;01massert\u001b[39;00m add_numbers(\u001b[32m5\u001b[39m, \u001b[32m6\u001b[39m) == \u001b[32m11\u001b[39m\n\u001b[32m      6\u001b[39m \u001b[38;5;28;01massert\u001b[39;00m add_numbers(\u001b[32m0\u001b[39m, \u001b[32m0\u001b[39m) == \u001b[32m0\u001b[39m\n",
      "\u001b[31mAssertionError\u001b[39m: "
     ]
    }
   ],
   "source": [
    "def add_numbers(a, b):\n",
    "    return a + a\n",
    "\n",
    "assert add_numbers(3, 4) == 7\n",
    "assert add_numbers(5, 6) == 11\n",
    "assert add_numbers(0, 0) == 0"
   ]
  },
  {
   "cell_type": "markdown",
   "id": "30ea863f",
   "metadata": {},
   "source": [
    "## Task 4\n",
    "Write functions to pass the tests below.  Note the name of the functions and the parameters."
   ]
  },
  {
   "cell_type": "code",
   "execution_count": null,
   "id": "765bd3e3",
   "metadata": {},
   "outputs": [],
   "source": [
    "# function definition\n",
    "\n",
    "# ----- Tests -------\n",
    "assert subtract_numbers(10, 5) == 5\n",
    "assert subtract_numbers(20, 10) == 10\n",
    "assert subtract_numbers(0, 0) == 0\n",
    "assert subtract_numbers(-5, -5) == -10"
   ]
  },
  {
   "cell_type": "code",
   "execution_count": null,
   "id": "827bdce5",
   "metadata": {},
   "outputs": [],
   "source": [
    "# function definition\n",
    "\n",
    "# ----- Tests -------\n",
    "assert multiply_numbers(2, 3) == 6\n",
    "assert multiply_numbers(4, 5) == 20\n",
    "assert multiply_numbers(0, 10) == 0\n",
    "assert multiply_numbers(-2, 3) == -6"
   ]
  },
  {
   "cell_type": "code",
   "execution_count": null,
   "id": "ada8ea70",
   "metadata": {},
   "outputs": [],
   "source": [
    "# function definition\n",
    "\n",
    "# ----- Tests -------\n",
    "assert remove_first_character(\"Hello\") == \"ello\"\n",
    "assert remove_first_character(\"Python\") == \"ython\"\n",
    "assert remove_first_character(\"A\") == \"\"\n",
    "assert remove_first_character(\"\") == \"\""
   ]
  },
  {
   "cell_type": "markdown",
   "id": "4b42b32f",
   "metadata": {},
   "source": [
    "## Task 5\n",
    "For the following functions, write tests to check if they are working correctly.  If they are not, fix the function.  If they are, add more tests to check for edge cases."
   ]
  },
  {
   "cell_type": "code",
   "execution_count": null,
   "id": "d5adfcc4",
   "metadata": {},
   "outputs": [
    {
     "name": "stdout",
     "output_type": "stream",
     "text": [
      "\n"
     ]
    }
   ],
   "source": [
    "def get_last_character(string):\n",
    "    if string:\n",
    "        return string[-1]\n",
    "    return \"\"\n",
    "\n",
    "# ----- Tests -------\n"
   ]
  },
  {
   "cell_type": "code",
   "execution_count": null,
   "id": "baf1bfb9",
   "metadata": {},
   "outputs": [],
   "source": [
    "# returns a^b\n",
    "def exponential_recursive(a, b):\n",
    "    if b == 0:\n",
    "        return 1\n",
    "    return a * exponential_recursive(a, b - 1)\n",
    "\n",
    "# ----- Tests -------\n"
   ]
  },
  {
   "cell_type": "code",
   "execution_count": null,
   "id": "6d1b56e6",
   "metadata": {},
   "outputs": [],
   "source": [
    "def remove_last_character(string):\n",
    "    if string:\n",
    "        return string[-1]\n",
    "    return \"\"\n",
    "\n",
    "# ----- Tests -------"
   ]
  },
  {
   "cell_type": "markdown",
   "id": "c77d1f36",
   "metadata": {},
   "source": [
    "Asserts are more often used to check for edge cases as there are more featured testing tools for functions.  \n",
    "```python\n",
    "def factorial(n):\n",
    "    assert n >= 0, \"n must be a non-negative integer\"\n",
    "    \n",
    "    return n * factorial(n - 1)\n",
    "```\n",
    "\n",
    "For the moment though, asserts are a good way to test our functions.  We will look at more advanced testing tools later in the course."
   ]
  },
  {
   "cell_type": "markdown",
   "id": "38db5bad",
   "metadata": {},
   "source": [
    "## Function calling within functions\n",
    "Functions can also call other functions.  This allows us to break up our code into smaller, more manageable pieces.  For example:\n",
    "```python\n",
    "def add_numbers(a, b):\n",
    "    return a + b\n",
    "\n",
    "def square_number(a):\n",
    "    return a * a\n",
    "\n",
    "def add_and_square(a, b):\n",
    "    sum = add_numbers(a, b)\n",
    "    return square_number(sum)\n",
    "```\n",
    "\n",
    "We can also chain our function calls together.  For example:\n",
    "```python\n",
    "def add_numbers(a, b):\n",
    "    return a + b\n",
    "\n",
    "def square_number(a):\n",
    "    return a * a\n",
    "\n",
    "print(square_number(add_numbers(3, 4)))\n",
    "print(add_numbers(square_number(3), square_number(4)))\n",
    "```\n",
    "The above function calls are read from the inside out. The innermost function is called first and the result is passed to the outer function.  This allows us to chain our function calls together to create more complex functions.  This is a very common practice.  Hopefully, you can now see why it is importatnt to name functions descriptively.  It makes it easier to read and understand the code. "
   ]
  }
 ],
 "metadata": {
  "kernelspec": {
   "display_name": "Python 3",
   "language": "python",
   "name": "python3"
  },
  "language_info": {
   "codemirror_mode": {
    "name": "ipython",
    "version": 3
   },
   "file_extension": ".py",
   "mimetype": "text/x-python",
   "name": "python",
   "nbconvert_exporter": "python",
   "pygments_lexer": "ipython3",
   "version": "3.11.11"
  }
 },
 "nbformat": 4,
 "nbformat_minor": 5
}
