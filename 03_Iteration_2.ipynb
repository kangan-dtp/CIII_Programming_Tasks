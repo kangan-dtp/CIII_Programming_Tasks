{
 "cells": [
  {
   "cell_type": "markdown",
   "id": "7ec5fe31",
   "metadata": {},
   "source": [
    "# Nested Iteration\n",
    "Just as we were able to nest selection statements, we can also nest iteration statements. This means that we can have a loop inside another loop. As a flowchart:\n",
    "\n",
    "<img src=\"img/03/Iteration_2.png\" alt=\"Nested Iteration c/o https://www.programtopia.net/c-programming/docs/nested-loop\" width=\"400\"/>\n",
    "\n",
    "There are two conditions each controlling a loop.  The outer loop will iterate through the first condition, and for each iteration of the outer loop, the inner loop will iterate through its condition. This means that the inner loop will run completely for each iteration of the outer loop.\n",
    "\n",
    "Let's look at an example in Python. We will use a nested loop to print 1 to 10 five times.  First, we create an outer loop that will iterate 5 times.  For each iteration of the outer loop, we create an inner loop that will iterate 10 times.  The result is that we print the numbers 1 to 10 five times.\n",
    "\n",
    "In this case, we get the inner loop printing 50 times in total.  10 times for each of the 5 iterations of the outer loop.  Therefore, 10 time 5.  "
   ]
  },
  {
   "cell_type": "code",
   "execution_count": 3,
   "id": "979402fd",
   "metadata": {},
   "outputs": [
    {
     "name": "stdout",
     "output_type": "stream",
     "text": [
      "1 2 3 4 5 6 7 8 9 10 \n",
      "1 2 3 4 5 6 7 8 9 10 \n",
      "1 2 3 4 5 6 7 8 9 10 \n",
      "1 2 3 4 5 6 7 8 9 10 \n",
      "1 2 3 4 5 6 7 8 9 10 \n"
     ]
    }
   ],
   "source": [
    "outer_count = 0\n",
    "while outer_count < 5:\n",
    "    outer_count += 1\n",
    "    \n",
    "    inner_count = 0\n",
    "    while inner_count < 10:\n",
    "        inner_count += 1\n",
    "        print(inner_count, end=' ') # Print inner_count value, without newline\n",
    "    \n",
    "    print()  # Print a new line after each inner loop"
   ]
  },
  {
   "cell_type": "markdown",
   "id": "5fd11fe4",
   "metadata": {},
   "source": [
    "Notice that the inner count is reset to 0 for each iteration of the outer count. This is important because if we don't reset the inner count, it will continue to increment from where it left off in the previous iteration of the outer loop. This will cause the inner loop to skip some iterations and not print all the values we expect.\n",
    "\n",
    "What would happen? If we reset the inner_count to count every time?\n",
    "```python\n",
    "outer_count = 0\n",
    "while outer_count < 5:\n",
    "    outer_count += 1\n",
    "    \n",
    "    inner_count = outer_count\n",
    "    while inner_count < 10:\n",
    "        inner_count += 1\n",
    "        print(inner_count, end=' ') # Print inner_count value, without newline\n",
    "    \n",
    "    print()  # Print a new line after each inner loop\n",
    "```\n",
    "\n",
    "What if we set the boundary of the inner loop to count?\n",
    "```python\n",
    "outer_count = 0\n",
    "while outer_count < 5:\n",
    "    outer_count += 1\n",
    "    \n",
    "    inner_count = 0\n",
    "    while inner_count < outer_count:\n",
    "        inner_count += 1\n",
    "        print(inner_count, end=' ') # Print inner_count value, without newline\n",
    "    \n",
    "    print()  # Print a new line after each inner loop\n",
    "```\n",
    "\n",
    "Run the code below to check your thinking."
   ]
  },
  {
   "cell_type": "code",
   "execution_count": null,
   "id": "84670041",
   "metadata": {},
   "outputs": [
    {
     "name": "stdout",
     "output_type": "stream",
     "text": [
      "2 3 4 5 6 7 8 9 10 \n",
      "3 4 5 6 7 8 9 10 \n",
      "4 5 6 7 8 9 10 \n",
      "5 6 7 8 9 10 \n",
      "6 7 8 9 10 \n"
     ]
    }
   ],
   "source": []
  },
  {
   "cell_type": "markdown",
   "id": "002a7e29",
   "metadata": {},
   "source": [
    "As you can see, very small differences in code can entirely change the output of the program.\n",
    "\n",
    "It is important to understand how loops work and what each variable's value is at each point in your program.  This allows us to shape the output o f our program to be exactly what we want.\n",
    "\n",
    "## Debugging\n",
    "Debugging is the process of finding and fixing errors in your code.  Understanding what each variable is doing at each point in your program is essential to debugging.  If you don't understand what your code is doing, it will be very difficult to find and fix errors.\n",
    "\n",
    "A key tool used in debuggin is a *desk check*.  A desk check is a manual process of going through your code line by line and checking the values of each variable at each point in your program and the output.  This is a very useful tool for finding and fixing errors in your code.\n",
    "A desk check is a manual process, so it can be time consuming.  However, it is a very useful starting point to practice debugging.  Eventually, you may move onto other tools and techniques.\n",
    "\n",
    "Deskchecking can be done on paper or a text editor.  It can be represented in a table, in a flowchard or pseudocode.  It's simply a system to track the value of variables as the program runs.\n",
    "\n",
    "For more check out:\n",
    "\n",
    "https://www.akxl.org/JavaProgramming1/TraceTables.htm\n",
    "\n",
    "https://education.nsw.gov.au/teaching-and-learning/curriculum/tas/tas-curriculum-resources-7-12/tas-11-12-curriculum-resources/hsc-algorithms-and-desk-checking\n",
    "\n",
    "https://www.youtube.com/watch?v=cV8CHJFUYNM\n",
    "\n"
   ]
  },
  {
   "cell_type": "markdown",
   "id": "d566a5d2",
   "metadata": {},
   "source": [
    "## Task 1\n",
    "Perform desk checks on the following:\n",
    "\n",
    "1. \n",
    "```python\n",
    "outer_count = 0\n",
    "while outer_count < 5:\n",
    "    outer_count += 1\n",
    "    \n",
    "    inner_count = 0\n",
    "    while inner_count < 10:\n",
    "        inner_count += 1\n",
    "        print(inner_count, end=' ') # Print inner_count value, without newline\n",
    "    \n",
    "    print()  # Print a new line after each inner loop\n",
    "```\n",
    "2. \n",
    "```python\n",
    "outer_count = 10\n",
    "while outer_count > 0\n",
    "    outer_count -= 1\n",
    "    \n",
    "    inner_count = 0\n",
    "    while inner_count < outer_count:\n",
    "        inner_count += 1\n",
    "        print(inner_count, end=' ') # Print inner_count value, without newline\n",
    "    \n",
    "    print()  # Print a new line after each inner loop\n",
    "```"
   ]
  },
  {
   "cell_type": "markdown",
   "id": "9aecb6b3",
   "metadata": {},
   "source": [
    "## Task 2\n",
    "Write programs for the following (using nested loops):\n",
    "1. Print the numbers 1 to 10, 5 times.\n",
    "2. Print the numbers 1 to 10, 5 times, but only print even numbers.\n",
    "3. Print the following output:\n",
    "```\n",
    "11111\n",
    "22222\n",
    "33333\n",
    "44444\n",
    "55555\n",
    "```\n",
    "4. Print the following output:\n",
    "```\n",
    "1\n",
    "22\n",
    "333\n",
    "4444\n",
    "55555\n",
    "```\n",
    "5. Print the following output:\n",
    "```\n",
    "55555\n",
    "4444\n",
    "333\n",
    "22\n",
    "1\n",
    "```\n",
    "\n",
    "6. Print the following output:\n",
    "```\n",
    "1\n",
    "22\n",
    "333\n",
    "4444\n",
    "55555\n",
    "4444\n",
    "333\n",
    "22\n",
    "1\n",
    "```\n",
    "\n"
   ]
  },
  {
   "cell_type": "code",
   "execution_count": null,
   "id": "49621dfe",
   "metadata": {},
   "outputs": [],
   "source": [
    "# 1"
   ]
  },
  {
   "cell_type": "code",
   "execution_count": null,
   "id": "992095dc",
   "metadata": {},
   "outputs": [],
   "source": [
    "# 2"
   ]
  },
  {
   "cell_type": "code",
   "execution_count": null,
   "id": "8b9d6b0c",
   "metadata": {},
   "outputs": [],
   "source": [
    "# 3"
   ]
  },
  {
   "cell_type": "code",
   "execution_count": null,
   "id": "e86232b9",
   "metadata": {},
   "outputs": [],
   "source": [
    "# 4"
   ]
  },
  {
   "cell_type": "code",
   "execution_count": null,
   "id": "f13bdd06",
   "metadata": {},
   "outputs": [],
   "source": [
    "# 5"
   ]
  },
  {
   "cell_type": "code",
   "execution_count": null,
   "id": "326138fe",
   "metadata": {},
   "outputs": [],
   "source": [
    "# 6"
   ]
  },
  {
   "cell_type": "markdown",
   "id": "f0881f39",
   "metadata": {},
   "source": [
    "## Consolidation Tasks\n",
    "1. Write a program that prints all of the prime numbers between 3 and 1000.  A prime number is a number that is only divisible by 1 and itself.  For example, 2, 3, 5, 7, 11, 13...\n",
    "2. Solve Project Euler Problem 5 - https://projecteuler.net/problem=9"
   ]
  },
  {
   "cell_type": "code",
   "execution_count": null,
   "id": "d20e8918",
   "metadata": {},
   "outputs": [],
   "source": []
  },
  {
   "cell_type": "code",
   "execution_count": null,
   "id": "a9254617",
   "metadata": {},
   "outputs": [],
   "source": []
  },
  {
   "cell_type": "markdown",
   "id": "a3acfbcd",
   "metadata": {},
   "source": [
    "## Challenge Task\n",
    "Attempt the Project Euler - Problem 9\n",
    "https://projecteuler.net/problem=9\n",
    "\n",
    "It seems like it's a maths problem but it's actually a programming problem.  Hint:  Use loops!"
   ]
  },
  {
   "cell_type": "code",
   "execution_count": null,
   "id": "3fa7c677",
   "metadata": {},
   "outputs": [],
   "source": []
  }
 ],
 "metadata": {
  "kernelspec": {
   "display_name": "Python 3",
   "language": "python",
   "name": "python3"
  },
  "language_info": {
   "codemirror_mode": {
    "name": "ipython",
    "version": 3
   },
   "file_extension": ".py",
   "mimetype": "text/x-python",
   "name": "python",
   "nbconvert_exporter": "python",
   "pygments_lexer": "ipython3",
   "version": "3.11.11"
  }
 },
 "nbformat": 4,
 "nbformat_minor": 5
}
