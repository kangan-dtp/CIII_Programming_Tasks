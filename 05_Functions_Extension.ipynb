{
 "cells": [
  {
   "cell_type": "markdown",
   "id": "8cbd7ad3",
   "metadata": {},
   "source": [
    "# Functions Extensions"
   ]
  },
  {
   "cell_type": "markdown",
   "id": "6650df34",
   "metadata": {},
   "source": [
    "## Task 1\n",
    "Write a function called **sum_two** that takes two numbers as parameters.  It then **returns** the sum of the two numbers.  Make sure that it passes the tests (asserts provided)."
   ]
  },
  {
   "cell_type": "code",
   "execution_count": null,
   "id": "c84a63a0",
   "metadata": {},
   "outputs": [],
   "source": [
    "# -------- Function Definition -----------------------------------\n",
    "\n",
    "\n",
    "# -------- Tests ---------------------------------------------------\n",
    "assert(sum_two(1, 2) == 3)\n",
    "assert(sum_two(-1, 1) == 0)\n",
    "assert(sum_two(0, 0) == 0)\n",
    "assert(sum_two(100, 200) == 300)\n",
    "assert(sum_two(-100, -200) == -300)\n",
    "assert(sum_two(100, -200) == -100)\n",
    "assert(sum_two(0.1, 0.2) == 0.3)"
   ]
  },
  {
   "cell_type": "markdown",
   "id": "fcaab202",
   "metadata": {},
   "source": [
    "## Task 2\n",
    "Write a function called **multiply_two** that takes two numbers as parameters.  It then **returns** the product of the two numbers.  Make sure that it passes the tests (asserts provided)."
   ]
  },
  {
   "cell_type": "code",
   "execution_count": null,
   "id": "0909b9ed",
   "metadata": {},
   "outputs": [],
   "source": [
    "# -------- Function Definition -----------------------------------\n",
    "\n",
    "\n",
    "# -------- Tests ---------------------------------------------------\n",
    "assert(multiply_two(1, 2) == 2)\n",
    "assert(multiply_two(-1, 1) == -1)\n",
    "assert(multiply_two(0, 0) == 0)\n",
    "assert(multiply_two(100, 200) == 20000)\n",
    "assert(multiply_two(-100, -200) == 20000)"
   ]
  },
  {
   "cell_type": "markdown",
   "id": "db413169",
   "metadata": {},
   "source": [
    "## Task 3\n",
    "For the previous two functions, create a third function that acts as a menu to call either of the two functions.  The function should take three parameters: the first two are numbers, and the third is a string that indicates which operation to perform.  It should return the result of the operation.\n",
    "Example output:\n",
    "```\n",
    "1. sum\n",
    "2. multiply\n",
    "Please make a selection: 1\n",
    "\n",
    "enter first number: 5\n",
    "enter second number: 10\n",
    "5 + 10 = 15\n",
    "```\n",
    "\n",
    "```\n",
    "1. sum\n",
    "2. multiply\n",
    "Please make a selection: 2\n",
    "enter first number: 5\n",
    "enter second number: 10\n",
    "5 * 10 = 50\n",
    "```"
   ]
  },
  {
   "cell_type": "markdown",
   "id": "fdbdf7b2",
   "metadata": {},
   "source": [
    "## Task 4\n",
    "Add an exit option to the menu function.  If the user selects exit, the program should terminate.  Exit should be option 3 in the menu."
   ]
  },
  {
   "cell_type": "code",
   "execution_count": null,
   "id": "92875108",
   "metadata": {},
   "outputs": [],
   "source": []
  },
  {
   "cell_type": "markdown",
   "id": "63653f1f",
   "metadata": {},
   "source": [
    "## Task 4.1\n",
    "Add functionality to handle invalid input. If the user enters an invalid option, the program should prompt them to enter a valid option."
   ]
  },
  {
   "cell_type": "code",
   "execution_count": null,
   "id": "017fb300",
   "metadata": {},
   "outputs": [],
   "source": []
  },
  {
   "cell_type": "markdown",
   "id": "ec46824a",
   "metadata": {},
   "source": [
    "## Task 5\n",
    "Write a function called **get_max** that takes a list/array of numbers as a parameter.  The function will then **return** the maximum number in the list.  Make sure that it passes the tests (asserts provided).\n"
   ]
  },
  {
   "cell_type": "code",
   "execution_count": null,
   "id": "915bb4a6",
   "metadata": {},
   "outputs": [],
   "source": [
    "# ---------- Function Definition -----------------------------------\n",
    "\n",
    "\n",
    "# -------- Tests ---------------------------------------------------\n",
    "assert(get_max([1, 2, 3]) == 3)\n",
    "assert(get_max([-1, 0, 1]) == 1)\n",
    "assert(get_max([0, 0, 0]) == 0)\n",
    "assert(get_max([100, 200, 300]) == 300)\n",
    "assert(get_max([-100, -200, -300]) == -100)"
   ]
  },
  {
   "cell_type": "markdown",
   "id": "52ae63fa",
   "metadata": {},
   "source": [
    "## Task 6\n",
    "Write a function called **get_min** that takes a list/array of numbers as a parameter.  The function will then **return** the minimum number in the list.  Make sure that it passes the tests (asserts provided)."
   ]
  },
  {
   "cell_type": "code",
   "execution_count": null,
   "id": "70378d19",
   "metadata": {},
   "outputs": [],
   "source": [
    "# ---------- Function Definition -----------------------------------\n",
    "\n",
    "\n",
    "# -------- Tests ---------------------------------------------------\n",
    "assert(get_min([1, 2, 3]) == 1)\n",
    "assert(get_min([-1, 0, 1]) == -1)\n",
    "assert(get_min([0, 0, 0]) == 0)\n",
    "assert(get_min([100, 200, 300]) == 100)\n",
    "assert(get_min([-100, -200, -300]) == -300)"
   ]
  },
  {
   "cell_type": "markdown",
   "id": "4af15094",
   "metadata": {},
   "source": [
    "## Task 7\n",
    "Write a function called **get_longest_string** that takes a list of strings as a parameter.  The function will then **return** the longest string in the list.  If two strings are the equal longest, return the first one. Make sure that it passes the tests (asserts provided)."
   ]
  },
  {
   "cell_type": "code",
   "execution_count": null,
   "id": "f95e533e",
   "metadata": {},
   "outputs": [],
   "source": [
    "# ---------- Function Definition -----------------------------------\n",
    "\n",
    "\n",
    "# -------- Tests ---------------------------------------------------\n",
    "assert(get_longest_string([\"apple\", \"banana\", \"cherry\"]) == \"banana\")\n",
    "assert(get_longest_string([\"a\", \"bb\", \"ccc\"]) == \"ccc\")\n",
    "assert(get_longest_string([\"\", \"b\", \"c\"]) == \"b\")\n",
    "assert(get_longest_string([\"one\", \"two\", \"three\"]) == \"three\")\n",
    "assert(get_longest_string([\"short\", \"longer\", \"longest\"]) == \"longest\")\n",
    "assert(get_longest_string([]) == \"\")\n",
    "assert(get_longest_string([\"string1\", \"string2\"]) == \"string1\")"
   ]
  }
 ],
 "metadata": {
  "language_info": {
   "name": "python"
  }
 },
 "nbformat": 4,
 "nbformat_minor": 5
}
