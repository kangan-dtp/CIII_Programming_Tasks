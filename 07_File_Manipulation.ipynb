{
 "cells": [
  {
   "cell_type": "markdown",
   "id": "278c5afa",
   "metadata": {},
   "source": [
    "# File Manipulation\n",
    "Up until now, whenever we run a program none of the data entered is saved.  We lose it as soon as the program exits.  In this section we will learn how to save data to a file and read it back in."
   ]
  },
  {
   "cell_type": "markdown",
   "id": "d815b828",
   "metadata": {},
   "source": [
    "## Note: If you are using Google Colab, you need to connect to your Google Drive to save files. On the initial run you will be required to grant permissions to Colab to manage your Google Drive.  The rest of this section will assume that you are using Google Colab.\n",
    "\n",
    "You can do this by running the following code:"
   ]
  },
  {
   "cell_type": "code",
   "execution_count": null,
   "id": "0008872c",
   "metadata": {},
   "outputs": [],
   "source": [
    "from google.colab import drive\n",
    "drive.mount('/content/drive', force_remount=True)"
   ]
  },
  {
   "cell_type": "markdown",
   "id": "58efbb18",
   "metadata": {},
   "source": [
    "## Writing to a File\n",
    "To write to a file we use the `open` function with the mode set to `'w'` (write). If the file does not exist, it will be created. If it does exist, it will be overwritten.  Be careful with the file path that you provide, as it will overwrite any existing file with the same name.  For everything that we do in this session, '/content/drive/My Drive/' is the path to the folder in Google Drive where we will save our files.  You can change this to any folder you have access to in your Google Drive.\n",
    "\n",
    "The `file.write` function then allows us to write to the file.  This works in a similar way to `print`, but instead of printing to the console, it writes to the file."
   ]
  },
  {
   "cell_type": "code",
   "execution_count": null,
   "id": "bd88a717",
   "metadata": {},
   "outputs": [],
   "source": [
    "with open('/content/drive/My Drive/example.txt', 'w') as file:\n",
    "    file.write('Hello, World!')"
   ]
  },
  {
   "cell_type": "markdown",
   "id": "ed9e0d2d",
   "metadata": {},
   "source": [
    "Check your Google Drive and in the *My Drive* folder you should see a file called `example.txt` with the contents `Hello, World!`.\n",
    "\n",
    "Change the code above to write a different message to the file, \"Goodbye, Universe\".  Check your Google Drive again to see the new contents of the file.\n",
    "\n",
    "You will see that the contents of the file have been replaced with the new message.  Therefore, the current *mode* of the file access is **overwrite**.Sometimes you might need to refresh the Google Drive page to see the changes.  Another tell-tale sign is the last modified date of the file, which should change to the current date and time when you wrote to it.\n",
    "\n",
    "```python\n",
    "\n",
    "## File Modes\n",
    "There are several modes for opening files in Python:\n",
    "- `'w'`: Write mode. Opens a file for writing. If the file exists, it is truncated (overwritten). If it does not exist, it is created.\n",
    "- `'a'`: Append mode. Opens a file for writing, but does not truncate it. If the file does not exist, it is created.\n",
    "- `'x'`: Exclusive creation mode. Opens a file for writing, but raises an error if the file already exists.\n",
    "- `'r'`: Read mode (default). Opens a file for reading. If the file does not exist, it raises an error.\n",
    "- `'b'`: Binary mode. Opens a file in binary mode (e.g., for images, audio files).\n",
    "- `'t'`: Text mode (default). Opens a file in text mode. This is the default mode, so you can omit it.\n",
    "\n",
    "We'll only use `'w'`, `'a'`, `'x'` and `'r'` in this course but encourage you to explore the other modes.\n",
    "\n",
    "\n",
    "## Append mode (adding to a file)\n",
    "To append/add to a file, rather than overwrite it, we use the `open` function with the mode set to `'a'` (append). This will add new content to the end of the file without deleting the existing content.\n",
    "In the code below, we will append a new line to the `example.txt` file.  Only the mode of the file access has changed to `'a'` (append).  The rest of the code is the same as before."
   ]
  },
  {
   "cell_type": "code",
   "execution_count": null,
   "id": "8b17db4e",
   "metadata": {},
   "outputs": [],
   "source": [
    "with open('/content/drive/My Drive/example.txt', 'a') as file:\n",
    "    file.write('This is a file in Google Drive.\\n')"
   ]
  },
  {
   "cell_type": "markdown",
   "id": "5990dfa9",
   "metadata": {},
   "source": [
    "Check your Google Drive again to see the new contents of the file. You should see that the new line has been added to the end of the file without deleting the existing content.\n",
    "\n",
    "## What's that \\n character?\n",
    "The `\\n` character is a newline character. It tells Python to start a new line in the file. If you don't include it, the new content will be added to the end of the last line without starting a new line.  Run the code above again and check the file contents again.  You should see that the sentence starts on a new line.  This is because the previous line ended with a newline character.\n",
    "\n",
    "### Mini-Task\n",
    "Create a new file called `python_topics.txt` and write a few lines of text to it.  Use the append mode to add more lines to the file.  Make sure to include some newline characters (`\\n`) to separate the lines.  Check your Google Drive to see the contents of the file.\n",
    "\n",
    "Sequence\n",
    "Selection\n",
    "Iteration\n",
    "Lists\n",
    "Tuples\n",
    "Dictionaries\n",
    "Functions\n",
    "File Manipulation"
   ]
  },
  {
   "cell_type": "markdown",
   "id": "83a45347",
   "metadata": {},
   "source": [
    "## X mode (exclusive creation)\n",
    "The `'x'` mode is used to create a new file, but it will raise an error if the file already exists. This is useful when you want to ensure that you are not overwriting an existing file.  Run the code below and observe the output."
   ]
  },
  {
   "cell_type": "code",
   "execution_count": null,
   "id": "ed774439",
   "metadata": {},
   "outputs": [],
   "source": [
    "# an error will occure because example.txt already exists\n",
    "with open('/content/drive/My Drive/example.txt', 'x') as f:\n",
    "    f.write(\"xzvzxczxvzcvxcxzvcxzvcxz\")"
   ]
  },
  {
   "cell_type": "markdown",
   "id": "b5b56dc5",
   "metadata": {},
   "source": [
    "## Read mode\n",
    "Finally, to read a file, we use the `open` function with the mode set to `'r'` (read). This will open the file for reading. If the file does not exist, it will raise an error.\n",
    "We can then use the `file.read` function to read the contents of the file.  This will return the entire contents of the file as a string."
   ]
  },
  {
   "cell_type": "code",
   "execution_count": null,
   "id": "962a16f9",
   "metadata": {},
   "outputs": [],
   "source": [
    "with open('/content/drive/My Drive/example.txt', 'r') as file:\n",
    "    content = file.read()\n",
    "    print(content)"
   ]
  },
  {
   "cell_type": "markdown",
   "id": "65f5ff7c",
   "metadata": {},
   "source": [
    "## Read line by line\n",
    "We can read a single line from a file using the `file.readline` function. This will read the next line from the file and return it as a string. If there are no more lines to read, it will return an empty string."
   ]
  },
  {
   "cell_type": "code",
   "execution_count": null,
   "id": "a1b3e6fa",
   "metadata": {},
   "outputs": [],
   "source": [
    "with open('/content/drive/My Drive/example.txt', 'r') as file:\n",
    "    line = file.readline()\n",
    "    print(line)"
   ]
  },
  {
   "cell_type": "markdown",
   "id": "117fd66e",
   "metadata": {},
   "source": [
    "This only read the first line though!  Remember, readline reads one line and then stops.  If we want to read the next line we can call readline again and again until we reach the end of the file.\n",
    "```python\n",
    "with open('/content/drive/My Drive/example.txt', 'r') as file:\n",
    "    line = file.readline()\n",
    "    print(line)  # strip() removes the newline character at the end of the line\n",
    "    line = file.readline()\n",
    "    print(line)\n",
    "    line = file.readline()\n",
    "    print(line)\n",
    "```\n",
    "\n",
    "However, we know that the above is silly as there's a lot of repetition and we don't always know how many lines there are in a file.  Instead, we can use a `for` loop to iterate over the lines in the file.  This will read each line one by one until it reaches the end of the file.\n",
    "\n",
    "```python\n",
    "with open('/content/drive/My Drive/example.txt', 'r') as file:\n",
    "    for line in file:\n",
    "        print(line)\n",
    "```\n",
    "\n",
    "Finally, you may notice that on the print satement, the lines are printed with a newline character at the end.  This is because the `readline` and `for` loop methods read the newline character at the end of each line.  If you want to remove it, you can use the `strip()` method on the line.\n",
    "\n",
    "```python\n",
    "with open('/content/drive/My Drive/example.txt', 'r') as file:\n",
    "    for line in file:\n",
    "        print(line.strip())  # strip() removes the newline character at the end of the line\n",
    "```"
   ]
  },
  {
   "cell_type": "markdown",
   "id": "2edafb98",
   "metadata": {},
   "source": [
    "# Task 1\n",
    "1. Write a Python program that creates a file called `greetings.txt` and writes the following lines to it:\n",
    "   - \"Hello, World!\"\n",
    "   - \"Welcome to Python programming.\"\n",
    "   - \"File manipulation is fun!\"\n",
    "\n",
    "2. Open the file in append mode and add the following line:\n",
    "   - \"Let's learn more about file handling.\"\n",
    "\n",
    "3. Read the contents of the file and print each line to the console, ensuring that no extra newline characters are printed."
   ]
  },
  {
   "cell_type": "code",
   "execution_count": null,
   "id": "b5440df9",
   "metadata": {},
   "outputs": [],
   "source": [
    "from google.colab import drive\n",
    "drive.mount('/content/drive', force_remount=True)"
   ]
  },
  {
   "cell_type": "code",
   "execution_count": null,
   "id": "e468de56",
   "metadata": {},
   "outputs": [],
   "source": [
    "# Ex1"
   ]
  },
  {
   "cell_type": "code",
   "execution_count": null,
   "id": "d8a3a5cf",
   "metadata": {},
   "outputs": [],
   "source": [
    "#Ex2"
   ]
  },
  {
   "cell_type": "code",
   "execution_count": null,
   "id": "631b44e3",
   "metadata": {},
   "outputs": [],
   "source": [
    "#Ex3"
   ]
  },
  {
   "cell_type": "markdown",
   "id": "5abcfde8",
   "metadata": {},
   "source": [
    "# Task 2\n",
    "1. Write a Python program that creates a file called `foods.txt` and performs the following operations:\n",
    "    - Accepts an item from the user and appends it to the file.\n",
    "    - Stop accepting items when the user types \"done\".\n",
    "\n",
    "2. After the user has finished entering items, read the contents of the file and print each item to the console, ensuring that no extra newline characters are printed."
   ]
  },
  {
   "cell_type": "code",
   "execution_count": null,
   "id": "13efe5b6",
   "metadata": {},
   "outputs": [],
   "source": [
    "# Ex1"
   ]
  },
  {
   "cell_type": "code",
   "execution_count": null,
   "id": "be1f6fda",
   "metadata": {},
   "outputs": [],
   "source": [
    "# Ex2"
   ]
  }
 ],
 "metadata": {
  "kernelspec": {
   "display_name": "base",
   "language": "python",
   "name": "python3"
  },
  "language_info": {
   "codemirror_mode": {
    "name": "ipython",
    "version": 3
   },
   "file_extension": ".py",
   "mimetype": "text/x-python",
   "name": "python",
   "nbconvert_exporter": "python",
   "pygments_lexer": "ipython3",
   "version": "3.12.7"
  }
 },
 "nbformat": 4,
 "nbformat_minor": 5
}
