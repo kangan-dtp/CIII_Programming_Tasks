{
 "cells": [
  {
   "cell_type": "markdown",
   "id": "bf729c9b",
   "metadata": {},
   "source": [
    "# Task 1\n",
    "Ask the user to enter five numbers.  After the numbers are entered print:\n",
    "1. The largest number\n",
    "2. The smallest number\n",
    "3. The sum of the numbers\n",
    "4. The average of the numbers (average = sum of numbers / count of numbers)"
   ]
  },
  {
   "cell_type": "code",
   "execution_count": null,
   "id": "8c24c18c",
   "metadata": {},
   "outputs": [],
   "source": [
    "# code here"
   ]
  },
  {
   "cell_type": "markdown",
   "id": "44764738",
   "metadata": {},
   "source": [
    "# Task 2\n",
    "Create a guessing game where the user has to guess a number between 1 and 100. The game should continue until the user guesses the correct number. After the game, ask the user if they want to play again.\n",
    "Set the number to be guessed to 14."
   ]
  },
  {
   "cell_type": "code",
   "execution_count": null,
   "id": "e7dcf417",
   "metadata": {},
   "outputs": [],
   "source": [
    "# code here"
   ]
  },
  {
   "cell_type": "markdown",
   "id": "71652397",
   "metadata": {},
   "source": [
    "# Task 3\n",
    "As above, but this time the number to be guessed should be randomly generated between 1 and 100. The game should continue until the user guesses the correct number."
   ]
  },
  {
   "cell_type": "code",
   "execution_count": null,
   "id": "a4a6dd55",
   "metadata": {},
   "outputs": [],
   "source": [
    "# code here"
   ]
  },
  {
   "cell_type": "markdown",
   "id": "f75b4063",
   "metadata": {},
   "source": [
    "# Task 4\n",
    "As above, but this time the user can only have 5 guesses. If they do not guess the number in 5 tries, the game should end and tell them the correct number. "
   ]
  },
  {
   "cell_type": "code",
   "execution_count": null,
   "id": "67d05b24",
   "metadata": {},
   "outputs": [],
   "source": [
    "# code here"
   ]
  },
  {
   "cell_type": "markdown",
   "id": "9fe40e10",
   "metadata": {},
   "source": [
    "# Task 5\n",
    "Create a program that is a simple calculator.  The program starts with a menu that allows the user to select one of the following operations:\n",
    "1. +. Addition\n",
    "2. -. Subtraction\n",
    "3. *. Multiplication\n",
    "4. /. Division\n",
    "5. x. Exit\n",
    "\n",
    "The program should then ask the user to enter two numbers and perform the selected operation. The program should continue until the user selects the exit option.\n",
    "\n",
    "--------------------------------------------------\n",
    "\n",
    "**Sample Output:**\n",
    "```python\n",
    "Simple Calculator Menu:\n",
    "+. Addition\n",
    "-. Subtraction\n",
    "*. Multiplication\n",
    "/. Division\n",
    "x. Exit\n",
    "Enter the operator you want to perform: +\n",
    "Enter the first number: 7\n",
    "Enter the second number: 2\n",
    "Result: 9.0\n",
    "\n",
    "Simple Calculator Menu:\n",
    "+. Addition\n",
    "-. Subtraction\n",
    "*. Multiplication\n",
    "/. Division\n",
    "x. Exit\n",
    "Enter the operator you want to perform: -\n",
    "Enter the first number: 12\n",
    "Enter the second number: 5\n",
    "Result: 7.0\n",
    "\n",
    "Simple Calculator Menu:\n",
    "+. Addition\n",
    "-. Subtraction\n",
    "*. Multiplication\n",
    "/. Division\n",
    "x. Exit\n",
    "Enter the operator you want to perform: *\n",
    "Enter the first number: 3\n",
    "Enter the second number: 6.5\n",
    "Result: 19.5\n",
    "\n",
    "Simple Calculator Menu:\n",
    "+. Addition\n",
    "-. Subtraction\n",
    "*. Multiplication\n",
    "/. Division\n",
    "x. Exit\n",
    "Enter the operator you want to perform: /\n",
    "Enter the first number: 20\n",
    "Enter the second number: 4\n",
    "Result: 5.0\n",
    "\n",
    "Simple Calculator Menu:\n",
    "+. Addition\n",
    "-. Subtraction\n",
    "*. Multiplication\n",
    "/. Division\n",
    "x. Exit\n",
    "Enter the operator you want to perform: /\n",
    "Enter the first number: 8\n",
    "Enter the second number: 0\n",
    "Result: Error! Division by zero.\n",
    "\n",
    "Simple Calculator Menu:\n",
    "+. Addition\n",
    "-. Subtraction\n",
    "*. Multiplication\n",
    "/. Division\n",
    "x. Exit\n",
    "Enter the operator you want to perform: %\n",
    "Invalid operator. Please select a valid operator from the menu.\n",
    "\n",
    "Simple Calculator Menu:\n",
    "+. Addition\n",
    "-. Subtraction\n",
    "*. Multiplication\n",
    "/. Division\n",
    "x. Exit\n",
    "Enter the operator you want to perform: x\n",
    "Exiting calculator. Goodbye!\n",
    "```"
   ]
  },
  {
   "cell_type": "code",
   "execution_count": null,
   "id": "1fcaa9d3",
   "metadata": {},
   "outputs": [],
   "source": [
    "# code here"
   ]
  },
  {
   "cell_type": "markdown",
   "id": "8ad0178b",
   "metadata": {},
   "source": []
  }
 ],
 "metadata": {
  "language_info": {
   "name": "python"
  }
 },
 "nbformat": 4,
 "nbformat_minor": 5
}
