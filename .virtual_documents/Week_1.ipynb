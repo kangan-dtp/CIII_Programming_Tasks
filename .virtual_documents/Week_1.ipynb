


print("Hello World!")





x = 5  # 'x' is a variable storing the value 5
name = "Alice"  # 'name' is a variable storing the string "Alice"
print(x)
print("name = ", name)





x = 5
y = 9
z = x + y
print(x)
print(y)
print(z)

print(f"{x} + {y} = {z}")








# 1 - code for task 1


# 2 - code for task 2


# 3 - code for task 3


#4 - code for task 4







# obtain user input and store in a variable
name = input("What is your name?")
print(f"Hello {name}")





num1 = input("Enter a number")
num2 = input("Enter another number")
num3 = num1 + num2
print(f"The sum of the numbers is {num3}")





# fixed code here





# 1 - code for question 1


# 2 - code for question 2


# 3 - code for question 3


# 4 - code for question 4


