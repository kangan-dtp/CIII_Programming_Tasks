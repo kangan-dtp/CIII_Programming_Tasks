{
 "cells": [
  {
   "cell_type": "markdown",
   "metadata": {},
   "source": [
    "# Iteration\n",
    "Iteration is the process of repeating a set of instructions a certain number of times or until a specific condition is met.\n",
    "\n",
    "For example, we can print \"Hello World!\" 5 times by:\n",
    "\n",
    "```\n",
    "print(\"Hello World!\")\n",
    "print(\"Hello World!\")\n",
    "print(\"Hello World!\")\n",
    "print(\"Hello World!\")\n",
    "print(\"Hello World!\")\n",
    "```\n",
    "\n",
    "This is fine if we want to print \"Hello World!\" 5 times, but what if we want to print it 1000 times? Or 10000 times? Or even 1000000 times? Writing the same line of code over and over again is not practical.\n",
    "\n",
    "This is where iteration comes in. Instead of writing the same line of code multiple times, we can use a loop to repeat the code a certain number of times or until a specific condition is met.\n",
    "\n",
    "As a flowchart we can represent iteration as follows:\n",
    "\n",
    "<img src=\"img/03/iteration_1.jpg\" alt=\"Iteration Flowchart\" width=\"400\"/>\n",
    "\n",
    "\n",
    "In this flowchart, we have a numker *counter* which is used to keep track of how many times we have repeated (or iterated) through our *loop*.  Code gets executed (print \"Hello World!\" and counter = counter + 1) if the condition is met.  After that code is executed we come back up and re-evaluate the condition.\n",
    "*Identify the loop in the flowchart above.  What is the condition?  What happens if the condition is met?  What happens if the condition is not met?*\n",
    "\n",
    "Zooming in on the *counter* variable, we can see that it is initialized to 0.  Each time the loop runs, the *counter* variable is incremented by 1.  When the *counter* variable reaches a certain number, the loop stops and the program ends.\n",
    "*What is the value of counter when the loop stops?*\n",
    "\n",
    "The flowcart can be represented as pseudocode:\n",
    "\n",
    "```\n",
    "counter = 0\n",
    "while (counter < 5) \n",
    "    print(\"Hello World!\")\n",
    "    counter = counter + 1\n",
    "end while\n",
    "\n",
    "print(\"Done!\")\n",
    "```\n",
    "\n",
    "In the example above, we use a `while` loop to repeat the code until the counter reaches 5. The counter is initialized to 0 and is incremented by 1 each time the loop runs. When the counter reaches 5, the loop stops and the program ends.\n",
    "Notice that the program continues to run and prints \"Done!\" after the loop ends.  Done! is printed when the condition of the while loop is no longer met.\n",
    "\n",
    "The above in Python would look like this:\n",
    "\n",
    "```python\n",
    "counter = 0\n",
    "while counter < 5:\n",
    "    print(\"Hello World!\")\n",
    "    counter = counter + 1\n",
    "print(\"Done!\")\n",
    "```\n",
    "\n",
    "As discussed in previous topics, Python uses indentation to indicate blocks of code.  The code inside the while loop is indented.  The code after the while loop is not indented and is not part of the while loop.  This is important because it indicates that the code after the while loop will be executed after the loop ends.\n",
    "\n",
    "We can also substitute a variable for the number 5 in the condition.  For example, we can use a variable called `max` to indicate the maximum number of times we want to print \"Hello World!\".\n",
    "\n",
    "```python\n",
    "max = 5\n",
    "counter = 0\n",
    "while counter < max:\n",
    "    print(\"Hello World!\")\n",
    "    counter = counter + 1\n",
    "print(\"Done!\")\n",
    "```\n",
    "\n",
    "This allows us to custimise the number of times we want to print \"Hello World!\" without having to change the code inside the loop.  We can simply change the value of `max` to any number we want.\n",
    "\n",
    "What would be the output of the below code?\n",
    "\n",
    "```python\n",
    "max = 5\n",
    "counter = 0\n",
    "while counter < max:\n",
    "    print(counter)\n",
    "    counter = counter + 1\n",
    "```\n",
    "\n",
    "What about?\n",
    "```python\n",
    "max = 5\n",
    "counter = 0\n",
    "while counter < max:\n",
    "    counter = counter + 1\n",
    "    print(counter)\n",
    "```\n",
    "What about?\n",
    "```python\n",
    "max = 5\n",
    "counter = 0\n",
    "while counter <= max:\n",
    "    print(counter)\n",
    "    counter = counter + 1\n",
    "```\n",
    "What about?\n",
    "```python\n",
    "max = 5\n",
    "counter = 0\n",
    "while counter < max:\n",
    "    print(counter)\n",
    "    counter = counter + 2\n",
    "```\n",
    "\n",
    "## Infinite Loops\n",
    "An infinite loop is a loop that never ends.  This can happen if the condition of the loop is always true or if the code inside the loop never changes the condition.  We need to be careful with infinite loops because they can cause our program to run forever and never stop.  This can cause our computer to freeze or crash.\n",
    "\n",
    "Infinite loops can happen very easily if we are not careful.  For example, if we forget to increment the counter variable inside the loop, the condition will always be true and the loop will never end.\n",
    "\n",
    "For example, the following code will create an infinite loop:\n",
    "\n",
    "```python\n",
    "counter = 0\n",
    "while counter < 5:\n",
    "    print(\"Hello World!\")\n",
    "```\n",
    "\n",
    "This code will print \"Hello World!\" forever because the counter variable is never incremented.  The condition `counter < 5` will always be true and the loop will never end.  *What is the value of counter?  What can be done to fix the above?*\n",
    "\n",
    "*We can stop an infinite loop by using `Ctrl + C` in the terminal or command prompt.  This will interrupt the program and stop it from running.  However, this is not a good solution because it can cause our computer to freeze or crash.  It is better to avoid infinite loops in the first place by making sure that the condition of the loop will eventually become false.*\n",
    "\n",
    "### Sentinel Value\n",
    "One way to help avoid infinite loops is to use a sentinel value.  A sentinel value is a variable that is used in the condition.  We then ensure that this variable is altered inside the loop.\n",
    "\n",
    "```python\n",
    "count = 0\n",
    "while count < 5:\n",
    "    print(\"Hello World!\")\n",
    "    count = count + 1\n",
    "```\n",
    "In the example above, we use a variable called `count` as a sentinel value.  The condition of the loop is `count < 5`, which means that the loop will run until the count variable reaches 5.  Inside the loop, we *increment* the count variable by 1 each time the loop runs.  This ensures that the loop will eventually end when the count variable reaches 5.\n",
    "\n",
    "Be careful as even changing the value of the sentinel value doesn't ensure that the loop will end.  We need to make sure that the sentinel value is changed in a way that will eventually make the condition false.  *What happens if we decrement the count variable?*"
   ]
  },
  {
   "cell_type": "markdown",
   "metadata": {},
   "source": [
    "# Task 1\n",
    "The below code is incorrect.  Either complete or fix, so that the code runs correctly."
   ]
  },
  {
   "cell_type": "code",
   "execution_count": null,
   "metadata": {},
   "outputs": [],
   "source": [
    "#Ex 1:  Prints \"Hello World\" 10 times\n",
    "count = 1\n",
    "while count < 10:\n",
    "    print(\"Hello World\")\n",
    "    count += 1"
   ]
  },
  {
   "cell_type": "code",
   "execution_count": null,
   "metadata": {},
   "outputs": [],
   "source": [
    "#Ex 2:  Prints numbers from 1 to 10\n",
    "count = 0\n",
    "while count < 10:\n",
    "    print(count)\n",
    "    count += 1"
   ]
  },
  {
   "cell_type": "code",
   "execution_count": null,
   "metadata": {},
   "outputs": [],
   "source": [
    "#Ex 3: Prints \"Hello World\" 10 times\n",
    "count = 0\n",
    "while count < 10:\n",
    "    print(\"Hello World\")"
   ]
  },
  {
   "cell_type": "code",
   "execution_count": null,
   "metadata": {},
   "outputs": [],
   "source": [
    "#Ex 4: Prints numbers from 1 to <user input>\n",
    "count = 0\n",
    "while count < user_input:\n",
    "    print(count)\n",
    "    count += 1\n"
   ]
  },
  {
   "cell_type": "code",
   "execution_count": null,
   "metadata": {},
   "outputs": [],
   "source": [
    "#Ex 5: Prints numbers from 1 to <user input> in reverse order\n",
    "count = user_input\n",
    "while count > 0:\n",
    "    print(count)\n"
   ]
  },
  {
   "cell_type": "markdown",
   "metadata": {},
   "source": [
    "# <font color=\"blue\">Task 2</font>\n",
    "1. Write a program that prints \"Hello World!\" 10 times using a while loop.\n",
    "2. Write a program that asks the user for a name and prints \"Hello <name>!\" 5 times using a while loop.\n",
    "3. Write a program that asks the user for a number.  The program then prints from zero (0) to the number entered by the user using a while loop.\n",
    "4. Write a program that asks the user for a name and a number and prints \"Hello <name>!\" <number> times using a while loop.\n",
    "5. Write a program that asks the user for a number five times.  It then print the sum of the numbers entered by the user."
   ]
  },
  {
   "cell_type": "code",
   "execution_count": null,
   "metadata": {},
   "outputs": [],
   "source": [
    "# Ex 1"
   ]
  },
  {
   "cell_type": "code",
   "execution_count": null,
   "metadata": {},
   "outputs": [],
   "source": [
    "# Ex 2\n"
   ]
  },
  {
   "cell_type": "code",
   "execution_count": null,
   "metadata": {},
   "outputs": [],
   "source": [
    "# Ex 3"
   ]
  },
  {
   "cell_type": "code",
   "execution_count": null,
   "metadata": {},
   "outputs": [],
   "source": [
    "# Ex 4"
   ]
  },
  {
   "cell_type": "code",
   "execution_count": null,
   "metadata": {},
   "outputs": [],
   "source": [
    "# Ex 5"
   ]
  },
  {
   "cell_type": "markdown",
   "metadata": {},
   "source": [
    "## Selection with Iterration\n",
    "We can place an iteration inside a selection.  For example, we can use an `if` statement to check if the counter is even or odd and print a different message depending on the result.\n",
    "\n",
    "For example, if we were to print \"Hello World!\" 5 times, but only if an input from the user were equal to \"yes\": \n",
    "\n",
    "```python\n",
    "response = input(\"Do you want to print?\")\n",
    "if response == \"yes\":\n",
    "    counter = 0\n",
    "    while counter < 5:\n",
    "        print(\"Hello World!\")\n",
    "        counter = counter + 1\n",
    "else:\n",
    "    print(\"Goodbye!\")\n",
    "```\n",
    "\n",
    "*In the above does \"Goodbye!\" get printed if the user enters \"no\"?  What about \"yes\"?  What about \"yEs\"?  What about \"YES\"?  What about \"Yes\"?  What about \"yes! \"?  What about \"yes? \"?  What about \"yes. \"?  What about \"yes, \"?  What about \"yes, please\"?*\n",
    "\n",
    "\n",
    "Of course, we can also use a `while` loop inside an `if` statement.  For example, we can iterate from zero to twenty, but only choose/select to print the odd numbers.\n",
    "```python\n",
    "counter = 0\n",
    "while counter < 20:\n",
    "    if counter % 2 == 1:\n",
    "        print(counter)\n",
    "\n",
    "    counter = counter + 1\n",
    "\n",
    "print(\"Done!\")\n",
    "```\n",
    "*In the above code, what is the value of counter when the loop ends?  What is the value of counter when the if statement is true?  What is the value of counter when the if statement is false?  What is the value of counter when the program ends?*\n",
    "\n",
    "**Note the importance of indentation in the above.  What would happen if the counter = counter + 1 line was indented?  What if it wasn't indented?**\n",
    "\n"
   ]
  },
  {
   "cell_type": "markdown",
   "metadata": {},
   "source": [
    "# Task 3\n",
    "1. Write a program that asks the user for a number and prints all the even numbers from 0 to that number.\n",
    "2. Write a program that asks the user for a word, it prints the word and then asks again, until the user enters \"stop\".  The program then prints \"Goodbye!\".\n",
    "3. Write a program that asks the user if they want even numbers or odd numbers.  The program then asks the user for a number and prints all the even or odd numbers from 1 to that number, depending on the user's choice.\n",
    "4. Write a guessing game.  The magic numkber is 7.  The program asks the user to guess the number.  If the user guesses the number, the program prints \"You guessed it!\" and ends.  If the user does not guess the number, the program prints \"Try again!\" and asks for another guess.  The program continues until the user guesses the number.\n",
    "5. As above, but the program ends after 5 guesses.  If the user does not guess the number, the program prints \"You lose!\" and ends."
   ]
  },
  {
   "cell_type": "code",
   "execution_count": null,
   "metadata": {},
   "outputs": [],
   "source": [
    "# Ex 1"
   ]
  },
  {
   "cell_type": "code",
   "execution_count": null,
   "metadata": {},
   "outputs": [],
   "source": [
    "# Ex 2"
   ]
  },
  {
   "cell_type": "code",
   "execution_count": null,
   "metadata": {},
   "outputs": [],
   "source": [
    "# Ex 3"
   ]
  },
  {
   "cell_type": "code",
   "execution_count": null,
   "metadata": {},
   "outputs": [],
   "source": [
    "# Ex 4"
   ]
  },
  {
   "cell_type": "code",
   "execution_count": null,
   "metadata": {},
   "outputs": [],
   "source": [
    "# Ex 5"
   ]
  },
  {
   "cell_type": "markdown",
   "metadata": {},
   "source": [
    "# Consolidation Tasks\n",
    "Loops must be used for all of the below\n",
    "1. FizzBuzz:  Write a program that prints the numbers from 1 to 100.  But for multiples of three print \"Fizz\" instead of the number and for the multiples of five print \"Buzz\".  For numbers which are multiples of both three and five print \"FizzBuzz\".\n",
    "2. Power Of Two:  Write a program that asks the user for a number and prints two to the power of that numker.  For example, if the user enters 2, the program should print 4.  If the user enters 3, the program should print 8.  If the user enters 4, the program should print 16.  If the user enters 5, the program should print 32.\n",
    "3.  Fibonnaci: Write a program that prints the Fibonnaci sequence up to a number specified by the user.  The Fibonnaci sequence is a sequence of numbers where each number is the sum of the two preceding ones, usually starting with 0 and 1.  For example, the first ten numbers in the Fibonnaci sequence are: 0, 1, 1, 2, 3, 5, 8, 13, 21, 34.\n",
    "4. Factorial: Write a program that asks the user for a number and prints the factorial of that number.  The factorial of a number is the product of all the positive integers from 1 to that number.  For example, the factorial of 5 is 5 * 4 * 3 * 2 * 1 = 120.\n",
    "5. Exponential:  Write a program that asks the user for a number and an exponent and prints the result of raising the number to the exponent.  For example, if the user enters 2 and 3 (2^3), the program should print 8.  If the user enters 3 and 4 (3^4), the program should print 81."
   ]
  }
 ],
 "metadata": {
  "kernelspec": {
   "display_name": "base",
   "language": "python",
   "name": "python3"
  },
  "language_info": {
   "name": "python",
   "version": "3.12.4"
  }
 },
 "nbformat": 4,
 "nbformat_minor": 2
}
