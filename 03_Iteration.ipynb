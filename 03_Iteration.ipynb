{
 "cells": [
  {
   "cell_type": "markdown",
   "metadata": {},
   "source": [
    "# Iteration\n",
    "Iteration is the process of repeating a set of instructions a certain number of times or until a specific condition is met.\n",
    "\n",
    "For example, we can print \"Hello World!\" 5 times by:\n",
    "\n",
    "```\n",
    "print(\"Hello World!\")\n",
    "print(\"Hello World!\")\n",
    "print(\"Hello World!\")\n",
    "print(\"Hello World!\")\n",
    "print(\"Hello World!\")\n",
    "```\n",
    "\n",
    "This is fine if we want to print \"Hello World!\" 5 times, but what if we want to print it 1000 times? Or 10000 times? Or even 1000000 times? Writing the same line of code over and over again is not practical.\n",
    "\n",
    "This is where iteration comes in. Instead of writing the same line of code multiple times, we can use a loop to repeat the code a certain number of times or until a specific condition is met.\n",
    "\n",
    "As a flowchart we can represent iteration as follows:\n",
    "\n",
    "<img src=\"img/03/iteration_1.jpg\" alt=\"Iteration Flowchart\" width=\"400\"/>\n",
    "\n",
    "\n",
    "In this flowchart, we have a numker *counter* which is used to keep track of how many times we have repeated (or iterated) through our *loop*.  Code gets executed (print \"Hello World!\" and counter = counter + 1) if the condition is met.  After that code is executed we come back up and re-evaluate the condition.\n",
    "*Identify the loop in the flowchart above.  What is the condition?  What happens if the condition is met?  What happens if the condition is not met?*\n",
    "\n",
    "Zooming in on the *counter* variable, we can see that it is initialized to 0.  Each time the loop runs, the *counter* variable is incremented by 1.  When the *counter* variable reaches a certain number, the loop stops and the program ends.\n",
    "*What is the value of counter when the loop stops?*\n",
    "\n",
    "The flowcart can be represented as pseudocode:\n",
    "\n",
    "```\n",
    "counter = 0\n",
    "while (counter < 5) \n",
    "    print(\"Hello World!\")\n",
    "    counter = counter + 1\n",
    "end while\n",
    "\n",
    "print(\"Done!\")\n",
    "```\n",
    "\n",
    "In the example above, we use a `while` loop to repeat the code until the counter reaches 5. The counter is initialized to 0 and is incremented by 1 each time the loop runs. When the counter reaches 5, the loop stops and the program ends.\n",
    "Notice that the program continues to run and prints \"Done!\" after the loop ends.  Done! is printed when the condition of the while loop is no longer met.\n",
    "\n",
    "The above in Python would look like this:\n",
    "\n",
    "```python\n",
    "counter = 0\n",
    "while counter < 5:\n",
    "    print(\"Hello World!\")\n",
    "    counter = counter + 1\n",
    "print(\"Done!\")\n",
    "```\n",
    "\n",
    "As discussed in previous topics, Python uses indentation to indicate blocks of code.  The code inside the while loop is indented.  The code after the while loop is not indented and is not part of the while loop.  This is important because it indicates that the code after the while loop will be executed after the loop ends.\n",
    "\n",
    "We can also substitute a variable for the number 5 in the condition.  For example, we can use a variable called `max` to indicate the maximum number of times we want to print \"Hello World!\".\n",
    "\n",
    "```python\n",
    "max = 5\n",
    "counter = 0\n",
    "while counter < max:\n",
    "    print(\"Hello World!\")\n",
    "    counter = counter + 1\n",
    "print(\"Done!\")\n",
    "```\n",
    "\n",
    "This allows us to custimise the number of times we want to print \"Hello World!\" without having to change the code inside the loop.  We can simply change the value of `max` to any number we want.\n",
    "\n",
    "What would be the output of the below code?\n",
    "\n",
    "```python\n",
    "max = 5\n",
    "counter = 0\n",
    "while counter < max:\n",
    "    print(counter)\n",
    "    counter = counter + 1\n",
    "```\n",
    "\n",
    "What about?\n",
    "```python\n",
    "max = 5\n",
    "counter = 0\n",
    "while counter < max:\n",
    "    counter = counter + 1\n",
    "    print(counter)\n",
    "```\n",
    "What about?\n",
    "```python\n",
    "max = 5\n",
    "counter = 0\n",
    "while counter <= max:\n",
    "    print(counter)\n",
    "    counter = counter + 1\n",
    "```\n",
    "What about?\n",
    "```python\n",
    "max = 5\n",
    "counter = 0\n",
    "while counter < max:\n",
    "    print(counter)\n",
    "    counter = counter + 2\n",
    "```"
   ]
  },
  {
   "cell_type": "markdown",
   "metadata": {},
   "source": [
    "# <font color=\"blue\">Task 1</font>\n",
    "1. Write a program that prints \"Hello World!\" 10 times using a while loop.\n",
    "2. Write a program that asks the user for a name and prints \"Hello <name>!\" 5 times using a while loop.\n",
    "3. Write a program that asks the user for a number.  The program then prints from zero (0) to the number entered by the user using a while loop.\n",
    "4. Write a program that asks the user for a name and a number and prints \"Hello <name>!\" <number> times using a while loop.\n",
    "5. Write a program that asks the user for a number five times.  It then print the sum of the numbers entered by the user."
   ]
  },
  {
   "cell_type": "code",
   "execution_count": null,
   "metadata": {},
   "outputs": [],
   "source": [
    "# Ex 1"
   ]
  },
  {
   "cell_type": "code",
   "execution_count": null,
   "metadata": {},
   "outputs": [],
   "source": [
    "# Ex 2\n"
   ]
  },
  {
   "cell_type": "code",
   "execution_count": null,
   "metadata": {},
   "outputs": [],
   "source": [
    "# Ex 3"
   ]
  },
  {
   "cell_type": "code",
   "execution_count": null,
   "metadata": {},
   "outputs": [],
   "source": [
    "# Ex 4"
   ]
  },
  {
   "cell_type": "code",
   "execution_count": null,
   "metadata": {},
   "outputs": [],
   "source": [
    "# Ex 5"
   ]
  },
  {
   "cell_type": "markdown",
   "metadata": {},
   "source": [
    "## Selection with Iterration\n",
    "We can also use selection inside a loop.  For example, we can use an `if` statement to check if the counter is even or odd and print a different message depending on the result.  Of  course, we can also place a `while` loop inside an `if` statement.\n",
    "\n",
    "For example, if we were to print \"Hello World!\" 5 times, but only if an input from the user were equal to \"yes\": \n",
    "\n",
    "```python\n",
    "response = input(\"Do you want to print?\")\n",
    "if response == \"yes\":\n",
    "    counter = 0\n",
    "    while counter < 5:\n",
    "        print(\"Hello World!\")\n",
    "        counter = counter + 1\n",
    "else:\n",
    "    print(\"Goodbye!\")\n",
    "```\n",
    "\n",
    "*In the above does \"Goodbye!\" get printed if the user enters \"no\"?  What about \"yes\"?  What about \"yEs\"?  What about \"YES\"?  What about \"Yes\"?  What about \"yes! \"?  What about \"yes? \"?  What about \"yes. \"?  What about \"yes, \"?  What about \"yes, please\"?*\n",
    "\n"
   ]
  }
 ],
 "metadata": {
  "kernelspec": {
   "display_name": "base",
   "language": "python",
   "name": "python3"
  },
  "language_info": {
   "name": "python",
   "version": "3.12.4"
  }
 },
 "nbformat": 4,
 "nbformat_minor": 2
}
