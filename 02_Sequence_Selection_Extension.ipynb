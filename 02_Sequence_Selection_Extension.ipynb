{
 "cells": [
  {
   "cell_type": "markdown",
   "id": "d0ec60ed",
   "metadata": {},
   "source": []
  },
  {
   "cell_type": "markdown",
   "id": "dbcf0f01",
   "metadata": {},
   "source": [
    "# Extension Tasks\n",
    "These are some extra tasks involving Sequence and Selection for those of you who want more practice."
   ]
  },
  {
   "cell_type": "markdown",
   "id": "1fedaf94",
   "metadata": {},
   "source": [
    "# Task 1\n",
    "A converter program that converts metres to centimetres.  The conversion is 1 metre = 100 centimetres.  The program should ask the user to enter a number of metres and then display the equivalent number of centimetres.  For example, if the user enters 2, the program should display 200."
   ]
  },
  {
   "cell_type": "code",
   "execution_count": null,
   "id": "ad0d05fc",
   "metadata": {},
   "outputs": [],
   "source": []
  },
  {
   "cell_type": "markdown",
   "id": "57187d52",
   "metadata": {},
   "source": [
    "# Task 2\n",
    "As above but this time the program will ask the user whether they want to convert from metres to centimetres or from centimetres to metres.  The conversion is 1 metre = 100 centimetres and 1 centimetre = 0.01 metres.  The program should display the result in the same way as above.  For example, if the user enters 2 and chooses to convert from metres to centimetres, the program should display 200.  If the user enters 200 and chooses to convert from centimetres to metres, the program should display 2."
   ]
  },
  {
   "cell_type": "code",
   "execution_count": null,
   "id": "cf15bb6f",
   "metadata": {},
   "outputs": [],
   "source": []
  },
  {
   "cell_type": "markdown",
   "id": "c7fbcdfa",
   "metadata": {},
   "source": [
    "# Task 3\n",
    "A program that converts a temperature in degrees Celsius to degrees Fahrenheit.  Look up the formula for the conversion.  The program should ask the user to enter a temperature in degrees Celsius and then display the equivalent temperature in degrees Fahrenheit."
   ]
  },
  {
   "cell_type": "code",
   "execution_count": null,
   "id": "5b284ddf",
   "metadata": {},
   "outputs": [],
   "source": []
  },
  {
   "cell_type": "markdown",
   "id": "989527e5",
   "metadata": {},
   "source": [
    "# Task 4\n",
    "A program that converts a temperature in degrees Fahrenheit to degrees Celsius.  Look up the formula for the conversion.  The program should ask the user to enter a temperature in degrees Fahrenheit and then display the equivalent temperature in degrees Celsius.  The resulting temperature is likely to be a decimal number."
   ]
  },
  {
   "cell_type": "code",
   "execution_count": null,
   "id": "0d65d25f",
   "metadata": {},
   "outputs": [],
   "source": []
  },
  {
   "cell_type": "markdown",
   "id": "3cc7a609",
   "metadata": {},
   "source": [
    "# Task 5\n",
    "A temperature conversion program that can convert between degrees Celsius and degrees Fahrenheit.  The program should ask the user choose whether they want to convert from Celsius to Fahrenheit or from Fahrenheit to Celsius.  The program should then ask the user if they want the result to be displayed as a whole number or a decimal number.  The program will then ask the user to enter the temperature and display the result in the same way as above.  \n",
    "For example, if the user chooses to convert from Celsius to Fahrenheit and chooses to display the result as a decimal number, the program should display 32.0 for an input of 0 degrees Celsius.  If the user chooses to convert from Fahrenheit to Celsius and chooses to display the result as a whole number, the program should display 0 for an input of 32 degrees Fahrenheit."
   ]
  }
 ],
 "metadata": {
  "language_info": {
   "name": "python"
  }
 },
 "nbformat": 4,
 "nbformat_minor": 5
}
