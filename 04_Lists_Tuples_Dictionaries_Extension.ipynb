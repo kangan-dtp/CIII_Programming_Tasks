{
 "cells": [
  {
   "cell_type": "markdown",
   "id": "42d5002e",
   "metadata": {},
   "source": [
    "# Lists, Tuples and Dictionaries\n",
    "## Use what you've learnt so far to complete the tasks below."
   ]
  },
  {
   "cell_type": "markdown",
   "id": "e9e00e10",
   "metadata": {},
   "source": [
    "# Task 1.1\n",
    "Create a program that takes a list of numbers as input.  Stop taking input when the user types \"stop\".  Upon stopping receiving input, ask the user for the nth number in the list.  \n",
    "For example, the inputs from the user are in order:\n",
    "10, 20, 30, 40, 50, stop\n",
    "Then the user is asked for the nth number in the list.  If the user types 3, the program should print 30."
   ]
  },
  {
   "cell_type": "code",
   "execution_count": null,
   "id": "ab5167a4",
   "metadata": {},
   "outputs": [],
   "source": [
    "# code here"
   ]
  },
  {
   "cell_type": "markdown",
   "id": "4a4f0fc3",
   "metadata": {},
   "source": [
    "# Task 1.2\n",
    "Create a program that takes strings as input.  Stop taking input when the user types \"stop\".  The program should then print the strings entered by the user, one per line."
   ]
  },
  {
   "cell_type": "code",
   "execution_count": null,
   "id": "f1f4278c",
   "metadata": {},
   "outputs": [],
   "source": [
    "# code here"
   ]
  },
  {
   "cell_type": "markdown",
   "id": "a2281288",
   "metadata": {},
   "source": [
    "# Task 2\n",
    "As Task 1, but the program will print the amount of strings entered by the user at the end."
   ]
  },
  {
   "cell_type": "code",
   "execution_count": null,
   "id": "067e8b5b",
   "metadata": {},
   "outputs": [],
   "source": [
    "# code here"
   ]
  },
  {
   "cell_type": "markdown",
   "id": "7450e7d7",
   "metadata": {},
   "source": [
    "# Task 3\n",
    "As Task 1, but the program will print the strings entered by the user in reverse order."
   ]
  },
  {
   "cell_type": "code",
   "execution_count": null,
   "id": "1e8bc17a",
   "metadata": {},
   "outputs": [],
   "source": [
    "# code here"
   ]
  },
  {
   "cell_type": "markdown",
   "id": "606717ae",
   "metadata": {},
   "source": [
    "# Task 4\n",
    "As Task 1, but the program will print the string entered in capital letters.\n",
    "Hint: to convert a string to capital letters, use the method upper().  <a href=\"https://w3schools.com/python/ref_string_upper.asp\">https://w3schools.com/python/ref_string_upper.asp</a>"
   ]
  },
  {
   "cell_type": "code",
   "execution_count": null,
   "id": "f25a874a",
   "metadata": {},
   "outputs": [],
   "source": [
    "# code here"
   ]
  },
  {
   "cell_type": "markdown",
   "id": "49bcc25d",
   "metadata": {},
   "source": [
    "# Task 5\n",
    "Create a program that reads a student name and then a grade.  The program should print the name and the grade.  The program should stop when the user types \"stop\" as the name."
   ]
  },
  {
   "cell_type": "code",
   "execution_count": null,
   "id": "1efd3e39",
   "metadata": {},
   "outputs": [],
   "source": [
    "# code here"
   ]
  },
  {
   "cell_type": "markdown",
   "id": "478e218f",
   "metadata": {},
   "source": [
    "# Task 6\n",
    "As Task 5, but the program will print the average of the grades entered by the user at the end and also print the names of all students who have grades that are higher than the average.\n",
    "For example, if the user enters:\n",
    "```\n",
    "John 10, Mary 8, Peter 6, Ahmed 9, Rohan 5, stop\n",
    "```\n",
    "The program should print:\n",
    "```\n",
    "Average: 7.6\n",
    "\n",
    "Students with grades higher than average:\n",
    "John 10\n",
    "Mary 8\n",
    "Ahmed 9\n",
    "```"
   ]
  },
  {
   "cell_type": "code",
   "execution_count": null,
   "id": "cb7c0be6",
   "metadata": {},
   "outputs": [],
   "source": [
    "# code here"
   ]
  },
  {
   "cell_type": "markdown",
   "id": "17986df4",
   "metadata": {},
   "source": [
    "# Task 7\n",
    "A list has been created with the following meals and their prices:\n",
    "```\n",
    "meals = {\n",
    "    \"Pizza\": 10.99,\n",
    "    \"Pasta\": 8.50,\n",
    "    \"Salad\": 5.95,\n",
    "    \"Soft Drink\": 2.50,\n",
    "    \"Ice Cream\": 3.00\n",
    "}\n",
    "```\n",
    "\n",
    "A program that asks a user for a new meal and its price.  The program should then add the new meal to the list of meals.  The program should stop when the user types \"stop\" as the name of the meal.\n",
    "If an existing meal is entered, the program should update the price of that meal in the list.  The program should then print the updated list of meals and their prices.\n",
    "The program should then print the updated list of meals and their prices."
   ]
  },
  {
   "cell_type": "code",
   "execution_count": null,
   "id": "b6410563",
   "metadata": {},
   "outputs": [],
   "source": [
    "# code here"
   ]
  },
  {
   "cell_type": "markdown",
   "id": "ba9ca372",
   "metadata": {},
   "source": [
    "# Task 7.1\n",
    "As abovem but when an existing meal is entered, the program should print the old price and not allow the user to change it."
   ]
  },
  {
   "cell_type": "markdown",
   "id": "8237c52d",
   "metadata": {},
   "source": [
    "# Task 8\n",
    "From the above meal list, create a program that takes the meal name as input and prints the price of the meal.  The program should stop when the user types \"stop\" as the meal name.\n"
   ]
  },
  {
   "cell_type": "code",
   "execution_count": null,
   "id": "c0c762f4",
   "metadata": {},
   "outputs": [],
   "source": [
    "# code here"
   ]
  },
  {
   "cell_type": "markdown",
   "id": "45abbe94",
   "metadata": {},
   "source": [
    "# Task 9\n",
    "A program that uses the meal list from Task 7.  The program should ask the user for a meal name.  The program should stop when the user types \"stop\" as the meal name.\n",
    "Upon stopping, the program will print out the meal name and price for each meal that the user entered.\n",
    "For example, if the user enters:\n",
    "```\n",
    "Pizza, Pasta, Salad, Pizza, Salad, stop\n",
    "```\n",
    "The program should print:\n",
    "```\n",
    "Pizza: $10.99\n",
    "Pasta: $8.50\n",
    "Salad: $5.95\n",
    "Pizza: $10.99\n",
    "Salad: $5.95\n",
    "```"
   ]
  },
  {
   "cell_type": "code",
   "execution_count": null,
   "id": "788651aa",
   "metadata": {},
   "outputs": [],
   "source": [
    "# code here"
   ]
  },
  {
   "cell_type": "markdown",
   "id": "02d1d946",
   "metadata": {},
   "source": [
    "# Task 10\n",
    "As Task 9, but the program should also print the sum of the price of the meals entered by the user at the end.\n",
    "For example, if the user enters:\n",
    "```\n",
    "Pizza, Pasta, Salad, Pizza, Salad, stop\n",
    "```\n",
    "The program should print:\n",
    "```\n",
    "Pizza: $10.99\n",
    "Pasta: $8.50\n",
    "Salad: $5.95\n",
    "Pizza: $10.99\n",
    "Salad: $5.95\n",
    "--------------------\n",
    "Total: $44.42\n",
    "```"
   ]
  },
  {
   "cell_type": "markdown",
   "id": "9c49adbd",
   "metadata": {},
   "source": []
  }
 ],
 "metadata": {
  "language_info": {
   "name": "python"
  }
 },
 "nbformat": 4,
 "nbformat_minor": 5
}
