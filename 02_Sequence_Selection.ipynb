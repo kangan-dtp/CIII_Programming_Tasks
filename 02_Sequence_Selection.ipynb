{
 "cells": [
  {
   "cell_type": "markdown",
   "metadata": {},
   "source": [
    "# Sequence, Selection, and Iteration\n",
    "#### The three core concepts of programming ####\n",
    "\n",
    "The three basic control structures in programming are sequence, selection, and iteration. These structures allow us to control the flow of a program and make decisions based on certain conditions.\n",
    "- **Sequence**: This is the default mode of execution in programming. Statements are executed one after another in the order they appear in the code.\n",
    "- **Selection**: This structure allows us to make decisions in our code. We can choose to execute certain blocks of code based on specific conditions. The most common selection statements are `if`, `else if`, and `else`.\n",
    "- **Iteration**: This structure allows us to repeat a block of code multiple times. The most common iteration statements are `for` and `while` loops.\n",
    "\n",
    "This topic focuses on sequence and selection. Iteration will be covered in a later topic."
   ]
  },
  {
   "cell_type": "markdown",
   "metadata": {},
   "source": [
    "## Sequence\n",
    "Sequence is the default mode of execution in programming. Statements are executed one after another in the order they appear in the code. For example, consider the following code snippet:\n",
    "\n",
    "```python\n",
    "# This is a simple sequence of statements\n",
    "print(\"Hello, World!\")\n",
    "x = 5\n",
    "y = 10\n",
    "z = x + y\n",
    "print(\"The sum of x and y is:\", z)\n",
    "```\n",
    "In this example, the statements are executed in the order they appear. The first statement prints \"Hello, World!\", then assigns the value 5 to `x`, assigns the value 10 to `y`, calculates the sum of `x` and `y`, and finally prints the result.\n",
    "\n",
    "These statements are executed in sequence, one after the other. The output of this code will be:\n",
    "```\n",
    "Hello, World!\n",
    "The sum of x and y is: 15\n",
    "```\n",
    "The sequence above is required to produce the correct output. If we change the order of the statements, we may not get the expected result. For example, if we try to print `z` before calculating it, we will get an error:\n",
    "```python\n",
    "# This will cause an error\n",
    "print(\"The sum of x and y is:\", z)  # Error: z is not defined\n",
    "x = 5\n",
    "y = 10\n",
    "z = x + y\n",
    "```\n",
    "In this case, we will get an error because `z` is not defined before we try to print it. This shows the importance of sequence in programming.\n",
    "\n",
    "*would it matter if the sequence of x=5 and y=10 were swapped?*\n",
    "\n",
    "### <font color=\"blue\">Task 1: Sequence</font>\n",
    "For the below code snippets, fix the sequence of statements to produce the correct output.  No changes to the statements are allowed.  You can only change the order of the statements.\n",
    "\n",
    "*Hint: use the error messages to help you identify the problem.*"
   ]
  },
  {
   "cell_type": "code",
   "execution_count": null,
   "metadata": {},
   "outputs": [
    {
     "ename": "NameError",
     "evalue": "name 'a' is not defined",
     "output_type": "error",
     "traceback": [
      "\u001b[0;31m---------------------------------------------------------------------------\u001b[0m",
      "\u001b[0;31mNameError\u001b[0m                                 Traceback (most recent call last)",
      "Cell \u001b[0;32mIn[1], line 2\u001b[0m\n\u001b[1;32m      1\u001b[0m \u001b[38;5;66;03m# Ex 1:\u001b[39;00m\n\u001b[0;32m----> 2\u001b[0m result \u001b[38;5;241m=\u001b[39m a \u001b[38;5;241m+\u001b[39m b\n\u001b[1;32m      3\u001b[0m a \u001b[38;5;241m=\u001b[39m \u001b[38;5;241m2\u001b[39m\n\u001b[1;32m      4\u001b[0m b \u001b[38;5;241m=\u001b[39m \u001b[38;5;241m10\u001b[39m\n",
      "\u001b[0;31mNameError\u001b[0m: name 'a' is not defined"
     ]
    }
   ],
   "source": [
    "# Ex 1:\n",
    "result = a + b\n",
    "a = 2\n",
    "b = 10\n",
    "\n",
    "print(\"{a} + {b} = {result}\")\n",
    "\n",
    "# Ex 2:\n",
    "print(\"Hello {name}!\")\n",
    "name  = \"Alice\"\n",
    "\n",
    "# Ex 3:\n",
    "print(\"Hello {name}!\")\n",
    "name = input(\"Enter your name: \")\n",
    "\n",
    "# Ex 4:\n",
    "a = \"20\"\n",
    "b = \"10\"\n",
    "result = a + b\n",
    "print(\"{a} + {b} = {result}\")\n",
    "num1 = int(a)\n",
    "num2 = int(b)"
   ]
  },
  {
   "cell_type": "markdown",
   "metadata": {},
   "source": [
    "## Selection\n",
    "Selection allows us to make decisions in our code. We can choose to execute certain blocks of code based on specific conditions. The most common selection statements are `if`, `else if`, and `else`.\n",
    "\n",
    "Selection can often be visulised as a flowchart.  The flowchart below shows the basic structure of an `if` statement:\n",
    "\n",
    "<img src=\"img/02/1.png\" alt=\"Flowchart of an if statement c/o https://www.google.com/url?sa=i&url=https%3A%2F%2Fstackoverflow.com%2Fquestions%2F71020681%2Fstandard-way-of-representing-selection-in-flowcharts&psig=AOvVaw3cOmWAQvrRmzZhucn9pPQ1&ust=1744072763431000&source=images&cd=vfe&opi=89978449&ved=0CBEQjRxqFwoTCLj2gb_XxIwDFQAAAAAdAAAAABAE\" width=\"400\"/>\n",
    "\n",
    "In the above a street number is entered.  If the number is even, the program will set *direction* to *eastbound*.  Otherwise, it will set *direction* to *westbound*.  The paths diverge and if the user never enters an odd number, the program will never set *direction* to *westbound*.\n",
    "\n",
    "1. At the selection structure one side of the code is run.  The other side is not.\n",
    "2. The decision to be made needs to be able to be expressed as True or False (Boolean)\n",
    "\n",
    "The above example in code looks like:\n",
    "```python\n",
    "# This is a simple selection statement\n",
    "street_number = int(input(\"Enter your street number: \"))\n",
    "if street_number % 2 == 0:  # Check if the number is even\n",
    "    direction = \"eastbound\"\n",
    "else:\n",
    "    direction = \"westbound\"\n",
    "\n",
    "print(direction)\n",
    "```\n",
    "\n",
    "#### Syntax and Indentation\n",
    "In the code above, notice the syntax of the `if` statement. The condition is followed by a colon (`:`), and the block of code that should be executed if the condition is true is *indented*. This indentation is important in Python, as it indicates which statements belong to the `if` block.\n",
    "There is then an `else` statement, which is also followed by a colon and an indented block of code. The `else` block will be executed if the condition in the `if` statement is false.\n",
    "\n",
    "Indentaition is a key feature of Python. Code will not run if it is not indented correctly.  The code below will not run:\n",
    "```python\n",
    "# This code will not run due to incorrect indentation\n",
    "street_number = int(input(\"Enter your street number: \"))\n",
    "if street_number % 2 == 0:  # Check if the number is even\n",
    "    direction = \"eastbound\"\n",
    "else:\n",
    "direction = \"westbound\"  # This line is not indented correctly\n",
    "print(direction)\n",
    "```\n",
    "\n",
    "This will produce an `IndentationError` because the `else` block is not indented correctly. In Python, indentation is used to define the scope of code blocks, and all statements within the same block must be indented at the same level.  Indentation can be done using spaces or tabs, but it is important to be consistent throughout your code.\n",
    "\n",
    "Check out:  <https://www.w3schools.com/python/python_conditions.asp> for more examples of selection statements in Python.\n",
    "\n",
    "### Comparison Operators\n",
    "Comparison operators are used to compare two values and return a Boolean result (True or False). The most common comparison operators are:\n",
    "- `==`: Equal to\n",
    "- `!=`: Not equal to\n",
    "- `>`: Greater than\n",
    "- `<`: Less than\n",
    "- `>=`: Greater than or equal to\n",
    "- `<=`: Less than or equal to\n",
    "These operators can be used in selection statements to make decisions based on the values of variables. For example:\n",
    "```python\n",
    "# This is a simple selection statement using comparison operators\n",
    "age = int(input(\"Enter your age: \"))\n",
    "if age >= 18:  # Check if the user is an adult\n",
    "    print(\"You are an adult.\")\n",
    "else:\n",
    "    print(\"You are a minor.\")\n",
    "```\n",
    "check out <https://www.w3schools.com/python/gloss_python_comparison_operators.asp> for more of comparison operators."
   ]
  },
  {
   "cell_type": "markdown",
   "metadata": {},
   "source": [
    "## <font color=\"blue\">Task 2: Selection</font>\n",
    "1. Write a program that asks a user for their name.  If the name is \"Santa\", print \"Merry Christmas!\".  Otherwise, print \"Hello, [name]!\" where [name] is the name entered by the user.\n",
    "2. Write a program that asks the user to enter their age. If the age is 16 print \"That's sweet!\".  Otherwise, print \"That's not sweet!\".\n",
    "3. Write a program that asks the user to enter a number. If the number is greater than 10, print \"That's a big number!\".  Otherwise, print \"That's a small number!\".\n",
    "4. Write a program that asks the user to enter a number. If the number is positive, print \"That's a positive number!\".  Otherwise, print \"That's a negative number!\".\n",
    "5. Write a program that asks the user to enter two numbers, using two separate input statements. If the first number is greater than the second number, print \"The first number is greater than the second number.\". Otherwise, print \"The first number is less than or equal to the second number.\".\n",
    "6. Fix the code to make it work:\n",
    "7. Fix the code to make it work:\n",
    "8. Fix the code to make it work:\n"
   ]
  },
  {
   "cell_type": "code",
   "execution_count": null,
   "metadata": {},
   "outputs": [],
   "source": [
    "# Ex 1\n"
   ]
  },
  {
   "cell_type": "code",
   "execution_count": null,
   "metadata": {},
   "outputs": [],
   "source": [
    "# Ex 2\n"
   ]
  },
  {
   "cell_type": "code",
   "execution_count": null,
   "metadata": {},
   "outputs": [],
   "source": [
    "# Ex 3"
   ]
  },
  {
   "cell_type": "code",
   "execution_count": null,
   "metadata": {},
   "outputs": [],
   "source": [
    "# Ex 4"
   ]
  },
  {
   "cell_type": "code",
   "execution_count": null,
   "metadata": {},
   "outputs": [],
   "source": [
    "# Ex 5"
   ]
  },
  {
   "cell_type": "code",
   "execution_count": null,
   "metadata": {},
   "outputs": [],
   "source": [
    "# Ex 6\n",
    "a = 3\n",
    "b = 4\n",
    "if a == b\n",
    "    print(\"a is equal to b\")\n",
    "otherwise \n",
    "    print(\"a is less than b\")"
   ]
  },
  {
   "cell_type": "code",
   "execution_count": null,
   "metadata": {},
   "outputs": [],
   "source": [
    "# Ex 7\n",
    "x = 5\n",
    "y = 10\n",
    "if x > y:\n",
    "print(\"x is greater than y\")\n",
    "else:\n",
    "print(\"x is less than or equal to y\")"
   ]
  },
  {
   "cell_type": "code",
   "execution_count": null,
   "metadata": {},
   "outputs": [],
   "source": [
    "# Ex 8\n",
    "if q > w\n",
    "print(\"q is greater than w\")\n",
    "or\n",
    "print(\"q is equal to w\")\n",
    "q = 10\n",
    "w = 100"
   ]
  },
  {
   "cell_type": "markdown",
   "metadata": {},
   "source": [
    "## Nested Selection\n",
    "Nested selection statements are selection statements that are placed inside other selection statements. This allows us to make more complex decisions in our code.\n",
    "\n",
    "<img src=\"img/02/2.gif\" alt=\"Flowchart of a nested if statement c/o https://stackoverflow.com/questions/28421397/nested-if-else-which-one-is-it-out-of-the-options\" width=\"400\"/>\n",
    "\n",
    "In the above example, we first check if the number is positive.  If true, we then check if the numker is divisible by 3.  If true, we print \"The number is positive and divisible by 3\".  If false, we print \"The number is positive but not divisible by 3\".  If the first condition is false, we print \"The number is zero or negative\".\n",
    "\n",
    "As shown, we can set up a chain/series of conditions.  The first condition is checked.  If true, the second condition is checked.  If false, the third condition is checked.  This continues until a condition is met or all conditions are checked.\n",
    "\n",
    "The above example in code looks like:\n",
    "```python\n",
    "# This is a simple nested selection statement\n",
    "number = int(input(\"Enter a number: \"))\n",
    "if number > 0:  # Check if the number is positive\n",
    "    if number % 3 == 0:  # Check if the number is divisible by 3\n",
    "        print(\"The number is positive and divisible by 3\")\n",
    "    else:\n",
    "        print(\"The number is positive but not divisible by 3\")\n",
    "else:\n",
    "    print(\"The number is zero or negative\")\n",
    "```\n",
    "\n",
    "**Indentation:** Notice how the second `if` statement is indented.  This indicates that it is part of the first `if` statement.  If we remove the indentation, we will get an error:\n",
    "```python\n",
    "# This code will not run due to incorrect indentation\n",
    "number = int(input(\"Enter a number: \"))\n",
    "if number > 0:  # Check if the number is positive\n",
    "if number % 3 == 0:  # Check if the number is divisible by 3\n",
    "    print(\"The number is positive and divisible by 3\")\n",
    "else:\n",
    "    print(\"The number is zero or negative\")  # This line is not indented correctly\n",
    "``` \n",
    "\n",
    "**Mini Task:** Copy the code above into the code cell below.  Fix the indentation error and run the code.  Test it with different numbers to see how it works."
   ]
  },
  {
   "cell_type": "code",
   "execution_count": null,
   "metadata": {},
   "outputs": [],
   "source": [
    "# MiniTask"
   ]
  },
  {
   "cell_type": "markdown",
   "metadata": {},
   "source": [
    "# <font color=\"blue\">Task 3: Nested Selection</font>\n",
    "For the follow tasks, create a flowchart to represent the logic of the program.  Then write the code to implement the logic.  You can use any flowcharting tool you like, or draw it by hand.\n",
    "\n",
    "1. Write a program asking the user their name.  If the name is \"Santa\", print \"Merry Christmas!\".  If the name is \"Easter Bunny\", print \"Happy Easter!\".  If the name is \"Tooth Fairy\", print \"Happy Tooth Day!\".  If the name is not one of these, print \"Hello, [name]!\" where [name] is the name entered by the user.\n",
    "2.  Write a program asking the user for their favourite colour.  If the colour is \"red\", print \"That's my favourite colour too!\".  If the colour is \"blue\", print \"That's a nice colour!\".  If the colour is \"green\", print \"That's a great colour!\".  If the colour is not one of these, print \"I don't like that colour.\".\n",
    "3. Write a program that asks the user to enter their age. If the age is less than 18, check if the user is a minor or a child. If the age is less than 13, print \"You are a child\". If the age is between 13 and 17, print \"You are a minor\". If the age is 18 or older, print \"You are an adult\".\n",
    "4. Write a program that asks the user to enter a number. If the number is positive, check if it is divisible by 2 or 3. If the number is divisible by 2, print \"The number is positive and divisible by 2\". If the number is divisible by 5, print \"The number is positive and divisible by 5\". If the number is not divisible by either, print \"The number is positive but not divisible by 2 or 5\". If the number is zero or negative, print \"The number is zero or negative\".\n",
    "5. Write a program that asks the user to enter a number. If the number is even, check if it is divisible by 4 or 5. If the number is divisible by 4, print \"The number is even and divisible by 4\". If the number is divisible by 5, print \"The number is even and divisible by 5\". If the number is not divisible by either, print \"The number is even but not divisible by 4 or 5\". If the number is odd, print \"The number is odd\".\n"
   ]
  },
  {
   "cell_type": "code",
   "execution_count": null,
   "metadata": {},
   "outputs": [],
   "source": [
    "# Ex 1"
   ]
  },
  {
   "cell_type": "code",
   "execution_count": null,
   "metadata": {},
   "outputs": [],
   "source": [
    "# Ex 2"
   ]
  },
  {
   "cell_type": "code",
   "execution_count": null,
   "metadata": {},
   "outputs": [],
   "source": [
    "# Ex 3"
   ]
  },
  {
   "cell_type": "code",
   "execution_count": null,
   "metadata": {},
   "outputs": [],
   "source": [
    "# Ex 4"
   ]
  },
  {
   "cell_type": "code",
   "execution_count": null,
   "metadata": {},
   "outputs": [],
   "source": [
    "#Ex 5"
   ]
  },
  {
   "cell_type": "markdown",
   "metadata": {},
   "source": [
    "## If-elif-else\n",
    "The `if-elif-else` statement is a way to chain multiple conditions together. It allows us to check multiple conditions in a single selection statement. The `elif` (short for \"else if\") statement allows us to check additional conditions if the previous conditions are false.\n",
    "\n",
    "Nested selection statements as shown above can be difficult to read and understand.  The `if-elif-else` statement is a more concise way to write similar logic.\n",
    "\n",
    "The following flowchart could be written in Python as:\n",
    "<img src=\"img/02/3.png\" alt=\"Flowchart of an if-elif-else statement c/o https://flylib.com/books/en/2.891.1.100/3/\" width=\"400\"/>\n",
    "\n",
    "```python\n",
    "balance = int(input(\"Enter account balance: \"))\n",
    "\n",
    "if balance < 5000:\n",
    "    print(\"balance < 5000, Account is of category C\")\n",
    "else:\n",
    "    if balance < 20000:\n",
    "        print(\"5000 <= balance <= 20000, Account is of category A\")\n",
    "    else:\n",
    "        if balance < 60000:\n",
    "            print(\"20000 < balance < 60000, Account is of category C\")\n",
    "        else:\n",
    "            if balance <= 75000:\n",
    "                print(\"60000 <= balance <= 75000, Account is of category B\")\n",
    "            else:\n",
    "                print(\"balance > 75000, Account is of category C\")\n",
    "# Proceed to next statement in the program\n",
    "```\n",
    "We can see that the above code is difficult to read.  The logic is not clear and it is hard to follow.  We can use the `if-elif-else` statement to make this code more readable.\n",
    "\n",
    "```python\n",
    "# This is a simple if-elif-else statement\n",
    "balance = int(input(\"Enter account balance: \"))\n",
    "if balance < 5000:\n",
    "    print(\"balance < 5000, Account is of category C\")\n",
    "elif balance < 20000:\n",
    "    print(\"5000 <= balance <= 20000, Account is of category A\")\n",
    "elif balance < 60000:\n",
    "    print(\"20000 < balance < 60000, Account is of category C\")\n",
    "elif balance <= 75000:\n",
    "    print(\"60000 <= balance <= 75000, Account is of category B\")\n",
    "else:\n",
    "    print(\"balance > 75000, Account is of category C\")\n",
    "```\n",
    "\n",
    "Notice how the `elif` statement is used to check additional conditions. If the first condition is false, the program will check the next condition. If that condition is also false, it will check the next one, and so on. If none of the conditions are true, the `else` block will be executed.\n",
    "As soon as one of the conditions is true, the program will execute the corresponding block of code and skip the rest of the conditions. This makes the code more efficient and easier to read.\n",
    "\n",
    "Often, we need to reframe our logic and/or conditions to use the `if-elif-else` statement.  The flowchart above can be re-written as:\n",
    "\n",
    "<img src=\"img/Topic_2/2.gif\" alt=\"Flowchart of a nested if statement c/o https://stackoverflow.com/questions/28421397/nested-if-else-which-one-is-it-out-of-the-options\" width=\"400\"/>\n",
    "\n",
    "```python\n",
    "number = int(input(\"Enter a number: \"))\n",
    "\n",
    "if number <= 0:\n",
    "    print(\"The number is zero or negative\")\n",
    "elif number % 3 == 0:\n",
    "    print(\"The number is positive and divisible by 3\")\n",
    "else:\n",
    "    print(\"The number is positive but not divisible by 3\")\n",
    "```\n",
    "\n",
    "Notice how we've had to change the order of the conditions.  The first condition checks if the number is zero or negative.  If true, it prints \"The number is zero or negative\".  If false, it checks if the number is divisible by 3.  If true, it prints \"The number is positive and divisible by 3\".  If false, it prints \"The number is positive but not divisible by 3\".\n",
    "This is a more efficient way to write the code, as it avoids unnecessary checks.  The program will only check the conditions that are necessary to determine the output.\n",
    "\n",
    "### <font color=\"blue\">Task 4: If-elif-else</font>\n",
    "For Tasks 3, rewrite the code using the `if-elif-else` statement.  You can use the same flowchart as before, but you will need to reframe the logic to use the `if-elif-else` statement.\n",
    "\n",
    "1. Write a program asking the user their name.  If the name is \"Santa\", print \"Merry Christmas!\".  If the name is \"Easter Bunny\", print \"Happy Easter!\".  If the name is \"Tooth Fairy\", print \"Happy Tooth Day!\".  If the name is not one of these, print \"Hello, [name]!\" where [name] is the name entered by the user.\n",
    "2.  Write a program asking the user for their favourite colour.  If the colour is \"red\", print \"That's my favourite colour too!\".  If the colour is \"blue\", print \"That's a nice colour!\".  If the colour is \"green\", print \"That's a great colour!\".  If the colour is not one of these, print \"I don't like that colour.\".\n",
    "3. Write a program that asks the user to enter their age. If the age is less than 18, check if the user is a minor or a child. If the age is less than 13, print \"You are a child\". If the age is between 13 and 17, print \"You are a minor\". If the age is 18 or older, print \"You are an adult\".\n",
    "4. Write a program that asks the user to enter a number. If the number is positive, check if it is divisible by 2 or 3. If the number is divisible by 2, print \"The number is positive and divisible by 2\". If the number is divisible by 5, print \"The number is positive and divisible by 5\". If the number is not divisible by either, print \"The number is positive but not divisible by 2 or 5\". If the number is zero or negative, print \"The number is zero or negative\".\n",
    "5. Write a program that asks the user to enter a number. If the number is even, check if it is divisible by 4 or 5. If the number is divisible by 4, print \"The number is even and divisible by 4\". If the number is divisible by 5, print \"The number is even and divisible by 5\". If the number is not divisible by either, print \"The number is even but not divisible by 4 or 5\". If the number is odd, print \"The number is odd\".\n",
    "\n",
    "```python\n",
    "number = int(input(\"Enter a number: \"))\n",
    "\n",
    "if number > 0 and number % 3 == 0:\n",
    "    print(\"The number is positive and divisible by 3\")\n",
    "elif number > 0:\n",
    "    print(\"The number is positive but not divisible by 3\")\n",
    "else:\n",
    "    print(\"The number is zero or negative\")\n",
    "```\n",
    "\n"
   ]
  },
  {
   "cell_type": "code",
   "execution_count": null,
   "metadata": {},
   "outputs": [],
   "source": [
    "# Ex 1"
   ]
  },
  {
   "cell_type": "code",
   "execution_count": null,
   "metadata": {},
   "outputs": [],
   "source": [
    "# Ex 2"
   ]
  },
  {
   "cell_type": "code",
   "execution_count": null,
   "metadata": {},
   "outputs": [],
   "source": [
    "# Ex 3"
   ]
  },
  {
   "cell_type": "code",
   "execution_count": null,
   "metadata": {},
   "outputs": [],
   "source": [
    "# Ex 4"
   ]
  },
  {
   "cell_type": "code",
   "execution_count": null,
   "metadata": {},
   "outputs": [],
   "source": [
    "# Ex 5"
   ]
  },
  {
   "cell_type": "markdown",
   "metadata": {},
   "source": [
    "## One Last Thing - Logical Operators\n",
    "\n",
    "The example from above can be written using logical operators.\n",
    "```python\n",
    "number = int(input(\"Enter a number: \"))\n",
    "\n",
    "if number > 0 and number % 3 == 0:\n",
    "    print(\"The number is positive and divisible by 3\")\n",
    "elif number > 0:\n",
    "    print(\"The number is positive but not divisible by 3\")\n",
    "else:\n",
    "    print(\"The number is zero or negative\")\n",
    "```\n",
    "\n",
    "The *and* in the if condition is a logical operator.  It allows us to combine multiple conditions into a single condition.  In this case, we are checking if the number is greater than 0 and if it is divisible by 3.  If both conditions are true, the program will execute the block of code inside the `if` statement.\n",
    "The logical operators available in Python are:\n",
    "- `and`: Returns True if both conditions are true\n",
    "- `or`: Returns True if at least one condition is true\n",
    "- `not`: Returns True if the condition is false\n",
    "\n",
    "More can be found at: <https://www.w3schools.com/python/python_operators.asp>\n",
    "\n",
    "We'll do more with these in the next topic.  For now, adjust the last three questions from Tasks 3 and 4 to use logical operators:\n",
    "\n",
    "1. Write a program that asks the user to enter their age. If the age is less than 18, check if the user is a minor or a child. If the age is less than 13, print \"You are a child\". If the age is between 13 and 17, print \"You are a minor\". If the age is 18 or older, print \"You are an adult\".\n",
    "2. Write a program that asks the user to enter a number. If the number is positive, check if it is divisible by 2 or 3. If the number is divisible by 2, print \"The number is positive and divisible by 2\". If the number is divisible by 5, print \"The number is positive and divisible by 5\". If the number is not divisible by either, print \"The number is positive but not divisible by 2 or 5\". If the number is zero or negative, print \"The number is zero or negative\".\n",
    "3. Write a program that asks the user to enter a number. If the number is even, check if it is divisible by 4 or 5. If the number is divisible by 4, print \"The number is even and divisible by 4\". If the number is divisible by 5, print \"The number is even and divisible by 5\". If the number is not divisible by either, print \"The number is even but not divisible by 4 or 5\". If the number is odd, print \"The number is odd\"."
   ]
  },
  {
   "cell_type": "code",
   "execution_count": null,
   "metadata": {},
   "outputs": [],
   "source": []
  },
  {
   "cell_type": "code",
   "execution_count": null,
   "metadata": {},
   "outputs": [],
   "source": []
  },
  {
   "cell_type": "code",
   "execution_count": null,
   "metadata": {},
   "outputs": [],
   "source": []
  }
 ],
 "metadata": {
  "kernelspec": {
   "display_name": "base",
   "language": "python",
   "name": "python3"
  },
  "language_info": {
   "codemirror_mode": {
    "name": "ipython",
    "version": 3
   },
   "file_extension": ".py",
   "mimetype": "text/x-python",
   "name": "python",
   "nbconvert_exporter": "python",
   "pygments_lexer": "ipython3",
   "version": "3.12.4"
  }
 },
 "nbformat": 4,
 "nbformat_minor": 2
}
