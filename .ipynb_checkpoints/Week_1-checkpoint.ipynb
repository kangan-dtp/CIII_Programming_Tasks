{
 "cells": [
  {
   "cell_type": "markdown",
   "id": "e2feb495-5c70-4824-a7a2-fc3483ca5d14",
   "metadata": {
    "editable": false,
    "slideshow": {
     "slide_type": ""
    },
    "tags": []
   },
   "source": [
    "# Jupyter Notebooks and Python Introduction\n",
    "Jupyter Notebook is an interactive web application that allows you to write and run code in languages like Python. It combines code, visualizations, and text in one document.\n",
    "\n",
    "In this course, materials and tasks will be presented in Jupyter notebooks that you will obtain from Github.\n",
    "\n",
    "Jupyter notebooks contain cells which can be made up of Markdown (Text - such as this cell) or Code.\n",
    "\n",
    "To run code in a cell simply hit the play/run button in the toolbar.  Run the code in the cell below"
   ]
  },
  {
   "cell_type": "code",
   "execution_count": null,
   "id": "7989b4aa-e616-499e-a3a9-3810e5f1bf99",
   "metadata": {
    "editable": false,
    "slideshow": {
     "slide_type": ""
    },
    "tags": []
   },
   "outputs": [],
   "source": [
    "print(\"Hello World!\")"
   ]
  },
  {
   "cell_type": "markdown",
   "id": "6cbba5a1-16c3-4276-a5a0-c544f5c26ef5",
   "metadata": {
    "editable": false,
    "slideshow": {
     "slide_type": ""
    },
    "tags": []
   },
   "source": [
    "Running a code cell will show the output below the cell.\n",
    "\n",
    "As you can see *print* is used to write/output a value.\n",
    "\n",
    "# Python\n",
    "Python is an easy-to-learn, versatile programming language used for web development, data analysis, artificial intelligence, and more. Its simple syntax makes it beginner-friendly, allowing users to focus on problem-solving rather than complex code. Python is widely used in education and industry, making it a popular choice for all skill levels.\n",
    "\n",
    "# Variables\n",
    "In Python, variables are used to store data values. A variable is essentially a name that references a specific piece of data (like a number, string, or list). You can assign a value to a variable using the assignment operator =, and then use that variable later in your code.\n",
    "\n",
    "[W3Schools Python Variables](https://www.w3schools.com/python/python_variables.asp)\n",
    "\n",
    "# Comments\n",
    "\n",
    "In programming, comments are non-executable lines of text in the code that are meant for the programmer or others who read the code. They do not affect how the program runs, but they serve as helpful notes or explanations within the code.\n",
    "In Python a # symbol is used to begin a comment, which then occupies the remainder of the line\n",
    "\n",
    "[W3Schools Python Comments](https://www.w3schools.com/python/python_comments.asp)\n",
    "\n",
    "Run the example below:"
   ]
  },
  {
   "cell_type": "code",
   "execution_count": null,
   "id": "91275043-83a2-4357-b2a1-275bb2234e45",
   "metadata": {
    "editable": false,
    "slideshow": {
     "slide_type": ""
    },
    "tags": []
   },
   "outputs": [],
   "source": [
    "x = 5  # 'x' is a variable storing the value 5\n",
    "name = \"Alice\"  # 'name' is a variable storing the string \"Alice\"\n",
    "print(x)\n",
    "print(\"name = \", name)"
   ]
  },
  {
   "cell_type": "markdown",
   "id": "627534c5-0e79-41c6-b683-65403e92c748",
   "metadata": {
    "editable": false,
    "slideshow": {
     "slide_type": ""
    },
    "tags": []
   },
   "source": [
    "You can see that the print statement has printed the values stored in the variables.\n",
    "Also notice that we can use a comma to seperate multiple values to print\n",
    "\n",
    "# Arithmetic\n",
    "All programming languages including Python support arithmetic operations.  Arithmetic can be combined with variables.  See below:\n"
   ]
  },
  {
   "cell_type": "code",
   "execution_count": null,
   "id": "a3dd3c15-709c-461e-90d8-ff2c28e77208",
   "metadata": {
    "editable": false,
    "slideshow": {
     "slide_type": ""
    },
    "tags": []
   },
   "outputs": [],
   "source": [
    "x = 5\n",
    "y = 9\n",
    "z = x + y\n",
    "print(x)\n",
    "print(y)\n",
    "print(z)\n",
    "\n",
    "print(f\"{x} + {y} = {z}\")"
   ]
  },
  {
   "cell_type": "markdown",
   "id": "a553cacf-ffd6-487a-a452-ef7313ed0314",
   "metadata": {
    "editable": false,
    "slideshow": {
     "slide_type": ""
    },
    "tags": []
   },
   "source": [
    "Python has many operators you can find a bunch of them at:\n",
    "\n",
    "[W3Schools Python operators](https://www.w3schools.com/python/python_operators.asp)\n",
    "\n",
    "In the above an 'f' string was used to print the last line.  Find out more via Google or ChatGpt"
   ]
  },
  {
   "cell_type": "markdown",
   "id": "49cb15b8-3887-4976-8aad-ef03059a0423",
   "metadata": {
    "editable": false,
    "slideshow": {
     "slide_type": ""
    },
    "tags": []
   },
   "source": [
    "# Tasks\n",
    "Complete the following tasks in the code cell below.\n",
    "1. store the value 100 in a variable named **a**\n",
    "2. store the value 77 in a variable name **b**\n",
    "3. subtract the b from a and store the result in a variable name **result**\n",
    "4. print a sentence the looks like - *\"a - b = result\"* - where a, b and result are the actual values"
   ]
  },
  {
   "cell_type": "code",
   "execution_count": null,
   "id": "731e39c0-32d8-4e4a-85ec-93099cfd38d8",
   "metadata": {
    "editable": true,
    "slideshow": {
     "slide_type": "slide"
    },
    "tags": []
   },
   "outputs": [],
   "source": [
    "# 1 - code for task 1\n",
    "\n",
    "\n",
    "# 2 - code for task 2\n",
    "\n",
    "\n",
    "# 3 - code for task 3\n",
    "\n",
    "\n",
    "#4 - code for task 4\n",
    "\n"
   ]
  },
  {
   "cell_type": "markdown",
   "id": "b0b0dd91-6d3e-4f34-942e-49a82e40acaf",
   "metadata": {
    "editable": false,
    "slideshow": {
     "slide_type": ""
    },
    "tags": []
   },
   "source": [
    "# Input\n",
    "Inputs allow us to obtain info/data from a user.  For example, logging into a website requires input of a *username* and a *password*\n",
    "When can obtain keyboard input from a user in Python by using the **input** command/function.  The input from the user has to be stored in a variable by using the = operator.  This then allows us to use the input.\n",
    "\n",
    "[W3Schools Python Input](https://www.w3schools.com/python/python_user_input.asp)"
   ]
  },
  {
   "cell_type": "code",
   "execution_count": null,
   "id": "83444637-df2e-4ca6-9bcc-38cbabdb2093",
   "metadata": {
    "editable": false,
    "slideshow": {
     "slide_type": ""
    },
    "tags": []
   },
   "outputs": [],
   "source": [
    "# obtain user input and store in a variable\n",
    "name = input(\"What is your name?\")\n",
    "print(f\"Hello {name}\")"
   ]
  },
  {
   "cell_type": "markdown",
   "id": "cbeacb17-462a-42cb-8be8-b8e6d3943f44",
   "metadata": {
    "editable": false,
    "slideshow": {
     "slide_type": ""
    },
    "tags": []
   },
   "source": [
    "# DataTypes\n",
    "Have you noticed in the above print statements that there are talking marks in some places and not in others?  Talking marks denote a string, which is basically a sentence or word/s.  Which are a type of data or datatype.\n",
    "There are other datatypes such as numbers that we used above.  Specifically an int (integer)\n",
    "\n",
    "[W3Schools Python Datatypes](https://www.w3schools.com/python/python_datatypes.asp)\n",
    "\n",
    "Run the below code and enter 5 and 7 when prompted for numbers:"
   ]
  },
  {
   "cell_type": "code",
   "execution_count": null,
   "id": "175f78f7-e6cf-4a1a-b90b-ef74728bc16f",
   "metadata": {
    "editable": false,
    "slideshow": {
     "slide_type": ""
    },
    "tags": []
   },
   "outputs": [],
   "source": [
    "num1 = input(\"Enter a number\")\n",
    "num2 = input(\"Enter another number\")\n",
    "num3 = num1 + num2\n",
    "print(f\"The sum of the numbers is {num3}\")"
   ]
  },
  {
   "cell_type": "markdown",
   "id": "9e70b8bf-4fd0-4b8d-aaa9-5f8ea427160d",
   "metadata": {
    "editable": false,
    "slideshow": {
     "slide_type": ""
    },
    "tags": []
   },
   "source": [
    "Hmm, that's not quite right...\n",
    "Why is that happening?  Something to do with datatypes?\n",
    "\n",
    "[W3Schools Python Casting](https://www.w3schools.com/python/python_casting.asp)\n",
    "\n",
    "Have a look at the above link and see if you can use that information to fix the above code"
   ]
  },
  {
   "cell_type": "code",
   "execution_count": null,
   "id": "af9c68e0-3aa5-410a-be04-9ffcfaab7331",
   "metadata": {
    "editable": true,
    "slideshow": {
     "slide_type": ""
    },
    "tags": []
   },
   "outputs": [],
   "source": [
    "# fixed code here\n"
   ]
  },
  {
   "cell_type": "markdown",
   "id": "f38837f0-54dd-48eb-9abc-ab351f9b5471",
   "metadata": {
    "editable": true,
    "slideshow": {
     "slide_type": ""
    },
    "tags": []
   },
   "source": [
    "# Tasks 2\n"
   ]
  }
 ],
 "metadata": {
  "kernelspec": {
   "display_name": "Python 3 (ipykernel)",
   "language": "python",
   "name": "python3"
  },
  "language_info": {
   "codemirror_mode": {
    "name": "ipython",
    "version": 3
   },
   "file_extension": ".py",
   "mimetype": "text/x-python",
   "name": "python",
   "nbconvert_exporter": "python",
   "pygments_lexer": "ipython3",
   "version": "3.12.4"
  }
 },
 "nbformat": 4,
 "nbformat_minor": 5
}
